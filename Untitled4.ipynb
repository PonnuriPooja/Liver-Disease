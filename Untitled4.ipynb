{
 "cells": [
  {
   "cell_type": "code",
   "execution_count": 85,
   "metadata": {},
   "outputs": [],
   "source": [
    "# Importing the libraries\n",
    "import pandas as pd #for data manipulation & reading\n",
    "import numpy as np #for mathematical calculations\n",
    "import seaborn as sns # for advanced graphical representation\n",
    "import matplotlib.pyplot as plt # graphical representation\n",
    "get_ipython().run_line_magic('matplotlib', 'inline')"
   ]
  },
  {
   "cell_type": "code",
   "execution_count": 86,
   "metadata": {},
   "outputs": [
    {
     "name": "stdout",
     "output_type": "stream",
     "text": [
      "(1169, 11)\n"
     ]
    }
   ],
   "source": [
    "# Importing the dataset\n",
    "dataset = pd.read_csv('LiverData1.csv') #to read & load the pre existing dataset\n",
    "print(dataset.shape) # to describe the structure of data"
   ]
  },
  {
   "cell_type": "code",
   "execution_count": 87,
   "metadata": {},
   "outputs": [
    {
     "data": {
      "text/plain": [
       "2    928\n",
       "1    241\n",
       "Name: gender, dtype: int64"
      ]
     },
     "execution_count": 87,
     "metadata": {},
     "output_type": "execute_result"
    }
   ],
   "source": [
    "dataset['gender'].value_counts()"
   ]
  },
  {
   "cell_type": "code",
   "execution_count": 88,
   "metadata": {},
   "outputs": [
    {
     "data": {
      "text/plain": [
       "1    668\n",
       "2    501\n",
       "Name: ldisease, dtype: int64"
      ]
     },
     "execution_count": 88,
     "metadata": {},
     "output_type": "execute_result"
    }
   ],
   "source": [
    "dataset['ldisease'].value_counts()"
   ]
  },
  {
   "cell_type": "code",
   "execution_count": null,
   "metadata": {},
   "outputs": [],
   "source": []
  },
  {
   "cell_type": "code",
   "execution_count": 89,
   "metadata": {},
   "outputs": [
    {
     "data": {
      "text/plain": [
       "ldisease            int64\n",
       "gender              int64\n",
       "age                 int64\n",
       "total_brubin      float64\n",
       "direct_brubin     float64\n",
       "alk_phos            int64\n",
       "alam_amin           int64\n",
       "asp_amin            int64\n",
       "total_proteins    float64\n",
       "albumin           float64\n",
       "alb_glob_ratio    float64\n",
       "dtype: object"
      ]
     },
     "execution_count": 89,
     "metadata": {},
     "output_type": "execute_result"
    }
   ],
   "source": [
    "dataset.dtypes"
   ]
  },
  {
   "cell_type": "code",
   "execution_count": 90,
   "metadata": {},
   "outputs": [
    {
     "data": {
      "text/html": [
       "<div>\n",
       "<style scoped>\n",
       "    .dataframe tbody tr th:only-of-type {\n",
       "        vertical-align: middle;\n",
       "    }\n",
       "\n",
       "    .dataframe tbody tr th {\n",
       "        vertical-align: top;\n",
       "    }\n",
       "\n",
       "    .dataframe thead th {\n",
       "        text-align: right;\n",
       "    }\n",
       "</style>\n",
       "<table border=\"1\" class=\"dataframe\">\n",
       "  <thead>\n",
       "    <tr style=\"text-align: right;\">\n",
       "      <th></th>\n",
       "      <th>ldisease</th>\n",
       "      <th>gender</th>\n",
       "      <th>age</th>\n",
       "      <th>total_brubin</th>\n",
       "      <th>direct_brubin</th>\n",
       "      <th>alk_phos</th>\n",
       "      <th>alam_amin</th>\n",
       "      <th>asp_amin</th>\n",
       "      <th>total_proteins</th>\n",
       "      <th>albumin</th>\n",
       "      <th>alb_glob_ratio</th>\n",
       "    </tr>\n",
       "  </thead>\n",
       "  <tbody>\n",
       "    <tr>\n",
       "      <th>0</th>\n",
       "      <td>1</td>\n",
       "      <td>2</td>\n",
       "      <td>32</td>\n",
       "      <td>32.6</td>\n",
       "      <td>14.1</td>\n",
       "      <td>219</td>\n",
       "      <td>95</td>\n",
       "      <td>235</td>\n",
       "      <td>5.8</td>\n",
       "      <td>3.1</td>\n",
       "      <td>1.10</td>\n",
       "    </tr>\n",
       "    <tr>\n",
       "      <th>1</th>\n",
       "      <td>1</td>\n",
       "      <td>1</td>\n",
       "      <td>51</td>\n",
       "      <td>0.9</td>\n",
       "      <td>0.2</td>\n",
       "      <td>280</td>\n",
       "      <td>21</td>\n",
       "      <td>30</td>\n",
       "      <td>6.7</td>\n",
       "      <td>3.2</td>\n",
       "      <td>0.80</td>\n",
       "    </tr>\n",
       "    <tr>\n",
       "      <th>2</th>\n",
       "      <td>1</td>\n",
       "      <td>2</td>\n",
       "      <td>38</td>\n",
       "      <td>3.7</td>\n",
       "      <td>2.2</td>\n",
       "      <td>216</td>\n",
       "      <td>179</td>\n",
       "      <td>232</td>\n",
       "      <td>7.8</td>\n",
       "      <td>4.5</td>\n",
       "      <td>1.30</td>\n",
       "    </tr>\n",
       "    <tr>\n",
       "      <th>3</th>\n",
       "      <td>1</td>\n",
       "      <td>2</td>\n",
       "      <td>51</td>\n",
       "      <td>0.8</td>\n",
       "      <td>0.2</td>\n",
       "      <td>367</td>\n",
       "      <td>42</td>\n",
       "      <td>18</td>\n",
       "      <td>5.2</td>\n",
       "      <td>2.0</td>\n",
       "      <td>0.60</td>\n",
       "    </tr>\n",
       "    <tr>\n",
       "      <th>4</th>\n",
       "      <td>1</td>\n",
       "      <td>2</td>\n",
       "      <td>39</td>\n",
       "      <td>6.6</td>\n",
       "      <td>3.0</td>\n",
       "      <td>215</td>\n",
       "      <td>190</td>\n",
       "      <td>950</td>\n",
       "      <td>4.0</td>\n",
       "      <td>1.7</td>\n",
       "      <td>0.70</td>\n",
       "    </tr>\n",
       "    <tr>\n",
       "      <th>5</th>\n",
       "      <td>1</td>\n",
       "      <td>1</td>\n",
       "      <td>22</td>\n",
       "      <td>6.7</td>\n",
       "      <td>3.2</td>\n",
       "      <td>850</td>\n",
       "      <td>154</td>\n",
       "      <td>248</td>\n",
       "      <td>6.2</td>\n",
       "      <td>2.8</td>\n",
       "      <td>0.80</td>\n",
       "    </tr>\n",
       "    <tr>\n",
       "      <th>6</th>\n",
       "      <td>1</td>\n",
       "      <td>2</td>\n",
       "      <td>15</td>\n",
       "      <td>0.8</td>\n",
       "      <td>0.2</td>\n",
       "      <td>380</td>\n",
       "      <td>25</td>\n",
       "      <td>66</td>\n",
       "      <td>6.1</td>\n",
       "      <td>3.7</td>\n",
       "      <td>1.50</td>\n",
       "    </tr>\n",
       "    <tr>\n",
       "      <th>7</th>\n",
       "      <td>1</td>\n",
       "      <td>2</td>\n",
       "      <td>18</td>\n",
       "      <td>1.4</td>\n",
       "      <td>0.6</td>\n",
       "      <td>215</td>\n",
       "      <td>440</td>\n",
       "      <td>850</td>\n",
       "      <td>5.0</td>\n",
       "      <td>1.9</td>\n",
       "      <td>0.60</td>\n",
       "    </tr>\n",
       "    <tr>\n",
       "      <th>8</th>\n",
       "      <td>1</td>\n",
       "      <td>1</td>\n",
       "      <td>42</td>\n",
       "      <td>0.8</td>\n",
       "      <td>0.2</td>\n",
       "      <td>168</td>\n",
       "      <td>25</td>\n",
       "      <td>18</td>\n",
       "      <td>6.2</td>\n",
       "      <td>3.1</td>\n",
       "      <td>1.00</td>\n",
       "    </tr>\n",
       "    <tr>\n",
       "      <th>9</th>\n",
       "      <td>1</td>\n",
       "      <td>1</td>\n",
       "      <td>65</td>\n",
       "      <td>0.7</td>\n",
       "      <td>0.1</td>\n",
       "      <td>187</td>\n",
       "      <td>16</td>\n",
       "      <td>18</td>\n",
       "      <td>6.8</td>\n",
       "      <td>3.3</td>\n",
       "      <td>0.90</td>\n",
       "    </tr>\n",
       "    <tr>\n",
       "      <th>10</th>\n",
       "      <td>1</td>\n",
       "      <td>2</td>\n",
       "      <td>38</td>\n",
       "      <td>0.7</td>\n",
       "      <td>0.2</td>\n",
       "      <td>216</td>\n",
       "      <td>349</td>\n",
       "      <td>105</td>\n",
       "      <td>7.0</td>\n",
       "      <td>3.5</td>\n",
       "      <td>1.00</td>\n",
       "    </tr>\n",
       "    <tr>\n",
       "      <th>11</th>\n",
       "      <td>1</td>\n",
       "      <td>2</td>\n",
       "      <td>48</td>\n",
       "      <td>2.4</td>\n",
       "      <td>1.1</td>\n",
       "      <td>554</td>\n",
       "      <td>141</td>\n",
       "      <td>73</td>\n",
       "      <td>7.5</td>\n",
       "      <td>3.6</td>\n",
       "      <td>0.90</td>\n",
       "    </tr>\n",
       "    <tr>\n",
       "      <th>12</th>\n",
       "      <td>1</td>\n",
       "      <td>2</td>\n",
       "      <td>60</td>\n",
       "      <td>0.8</td>\n",
       "      <td>0.2</td>\n",
       "      <td>286</td>\n",
       "      <td>21</td>\n",
       "      <td>27</td>\n",
       "      <td>7.1</td>\n",
       "      <td>4.0</td>\n",
       "      <td>1.20</td>\n",
       "    </tr>\n",
       "    <tr>\n",
       "      <th>13</th>\n",
       "      <td>1</td>\n",
       "      <td>2</td>\n",
       "      <td>42</td>\n",
       "      <td>11.1</td>\n",
       "      <td>6.1</td>\n",
       "      <td>214</td>\n",
       "      <td>60</td>\n",
       "      <td>186</td>\n",
       "      <td>6.9</td>\n",
       "      <td>2.8</td>\n",
       "      <td>2.80</td>\n",
       "    </tr>\n",
       "    <tr>\n",
       "      <th>14</th>\n",
       "      <td>1</td>\n",
       "      <td>2</td>\n",
       "      <td>51</td>\n",
       "      <td>0.8</td>\n",
       "      <td>0.2</td>\n",
       "      <td>230</td>\n",
       "      <td>24</td>\n",
       "      <td>46</td>\n",
       "      <td>6.5</td>\n",
       "      <td>3.1</td>\n",
       "      <td>NaN</td>\n",
       "    </tr>\n",
       "    <tr>\n",
       "      <th>15</th>\n",
       "      <td>1</td>\n",
       "      <td>2</td>\n",
       "      <td>60</td>\n",
       "      <td>3.2</td>\n",
       "      <td>1.8</td>\n",
       "      <td>750</td>\n",
       "      <td>79</td>\n",
       "      <td>145</td>\n",
       "      <td>7.8</td>\n",
       "      <td>3.2</td>\n",
       "      <td>0.69</td>\n",
       "    </tr>\n",
       "    <tr>\n",
       "      <th>16</th>\n",
       "      <td>1</td>\n",
       "      <td>2</td>\n",
       "      <td>72</td>\n",
       "      <td>2.7</td>\n",
       "      <td>1.3</td>\n",
       "      <td>260</td>\n",
       "      <td>31</td>\n",
       "      <td>56</td>\n",
       "      <td>7.4</td>\n",
       "      <td>3.0</td>\n",
       "      <td>0.60</td>\n",
       "    </tr>\n",
       "    <tr>\n",
       "      <th>17</th>\n",
       "      <td>1</td>\n",
       "      <td>2</td>\n",
       "      <td>53</td>\n",
       "      <td>0.9</td>\n",
       "      <td>0.4</td>\n",
       "      <td>238</td>\n",
       "      <td>17</td>\n",
       "      <td>14</td>\n",
       "      <td>6.6</td>\n",
       "      <td>2.9</td>\n",
       "      <td>0.80</td>\n",
       "    </tr>\n",
       "    <tr>\n",
       "      <th>18</th>\n",
       "      <td>1</td>\n",
       "      <td>2</td>\n",
       "      <td>26</td>\n",
       "      <td>0.6</td>\n",
       "      <td>0.2</td>\n",
       "      <td>120</td>\n",
       "      <td>45</td>\n",
       "      <td>51</td>\n",
       "      <td>7.9</td>\n",
       "      <td>4.0</td>\n",
       "      <td>1.00</td>\n",
       "    </tr>\n",
       "    <tr>\n",
       "      <th>19</th>\n",
       "      <td>1</td>\n",
       "      <td>2</td>\n",
       "      <td>42</td>\n",
       "      <td>30.5</td>\n",
       "      <td>14.2</td>\n",
       "      <td>285</td>\n",
       "      <td>65</td>\n",
       "      <td>130</td>\n",
       "      <td>5.2</td>\n",
       "      <td>2.1</td>\n",
       "      <td>0.60</td>\n",
       "    </tr>\n",
       "  </tbody>\n",
       "</table>\n",
       "</div>"
      ],
      "text/plain": [
       "    ldisease  gender  age  total_brubin  direct_brubin  alk_phos  alam_amin  \\\n",
       "0          1       2   32          32.6           14.1       219         95   \n",
       "1          1       1   51           0.9            0.2       280         21   \n",
       "2          1       2   38           3.7            2.2       216        179   \n",
       "3          1       2   51           0.8            0.2       367         42   \n",
       "4          1       2   39           6.6            3.0       215        190   \n",
       "5          1       1   22           6.7            3.2       850        154   \n",
       "6          1       2   15           0.8            0.2       380         25   \n",
       "7          1       2   18           1.4            0.6       215        440   \n",
       "8          1       1   42           0.8            0.2       168         25   \n",
       "9          1       1   65           0.7            0.1       187         16   \n",
       "10         1       2   38           0.7            0.2       216        349   \n",
       "11         1       2   48           2.4            1.1       554        141   \n",
       "12         1       2   60           0.8            0.2       286         21   \n",
       "13         1       2   42          11.1            6.1       214         60   \n",
       "14         1       2   51           0.8            0.2       230         24   \n",
       "15         1       2   60           3.2            1.8       750         79   \n",
       "16         1       2   72           2.7            1.3       260         31   \n",
       "17         1       2   53           0.9            0.4       238         17   \n",
       "18         1       2   26           0.6            0.2       120         45   \n",
       "19         1       2   42          30.5           14.2       285         65   \n",
       "\n",
       "    asp_amin  total_proteins  albumin  alb_glob_ratio  \n",
       "0        235             5.8      3.1            1.10  \n",
       "1         30             6.7      3.2            0.80  \n",
       "2        232             7.8      4.5            1.30  \n",
       "3         18             5.2      2.0            0.60  \n",
       "4        950             4.0      1.7            0.70  \n",
       "5        248             6.2      2.8            0.80  \n",
       "6         66             6.1      3.7            1.50  \n",
       "7        850             5.0      1.9            0.60  \n",
       "8         18             6.2      3.1            1.00  \n",
       "9         18             6.8      3.3            0.90  \n",
       "10       105             7.0      3.5            1.00  \n",
       "11        73             7.5      3.6            0.90  \n",
       "12        27             7.1      4.0            1.20  \n",
       "13       186             6.9      2.8            2.80  \n",
       "14        46             6.5      3.1             NaN  \n",
       "15       145             7.8      3.2            0.69  \n",
       "16        56             7.4      3.0            0.60  \n",
       "17        14             6.6      2.9            0.80  \n",
       "18        51             7.9      4.0            1.00  \n",
       "19       130             5.2      2.1            0.60  "
      ]
     },
     "execution_count": 90,
     "metadata": {},
     "output_type": "execute_result"
    }
   ],
   "source": [
    "#Viewing data\n",
    "dataset.head(20)"
   ]
  },
  {
   "cell_type": "code",
   "execution_count": 91,
   "metadata": {},
   "outputs": [
    {
     "data": {
      "text/html": [
       "<div>\n",
       "<style scoped>\n",
       "    .dataframe tbody tr th:only-of-type {\n",
       "        vertical-align: middle;\n",
       "    }\n",
       "\n",
       "    .dataframe tbody tr th {\n",
       "        vertical-align: top;\n",
       "    }\n",
       "\n",
       "    .dataframe thead th {\n",
       "        text-align: right;\n",
       "    }\n",
       "</style>\n",
       "<table border=\"1\" class=\"dataframe\">\n",
       "  <thead>\n",
       "    <tr style=\"text-align: right;\">\n",
       "      <th></th>\n",
       "      <th>ldisease</th>\n",
       "      <th>gender</th>\n",
       "      <th>age</th>\n",
       "      <th>total_brubin</th>\n",
       "      <th>direct_brubin</th>\n",
       "      <th>alk_phos</th>\n",
       "      <th>alam_amin</th>\n",
       "      <th>asp_amin</th>\n",
       "      <th>total_proteins</th>\n",
       "      <th>albumin</th>\n",
       "      <th>alb_glob_ratio</th>\n",
       "    </tr>\n",
       "  </thead>\n",
       "  <tbody>\n",
       "    <tr>\n",
       "      <th>count</th>\n",
       "      <td>1169.000000</td>\n",
       "      <td>1169.000000</td>\n",
       "      <td>1169.000000</td>\n",
       "      <td>1169.000000</td>\n",
       "      <td>1169.000000</td>\n",
       "      <td>1169.000000</td>\n",
       "      <td>1169.000000</td>\n",
       "      <td>1169.000000</td>\n",
       "      <td>1169.000000</td>\n",
       "      <td>1169.000000</td>\n",
       "      <td>1160.000000</td>\n",
       "    </tr>\n",
       "    <tr>\n",
       "      <th>mean</th>\n",
       "      <td>1.428571</td>\n",
       "      <td>1.793841</td>\n",
       "      <td>43.976903</td>\n",
       "      <td>3.060137</td>\n",
       "      <td>1.294012</td>\n",
       "      <td>279.437126</td>\n",
       "      <td>77.011121</td>\n",
       "      <td>94.988024</td>\n",
       "      <td>6.410864</td>\n",
       "      <td>3.138238</td>\n",
       "      <td>0.969526</td>\n",
       "    </tr>\n",
       "    <tr>\n",
       "      <th>std</th>\n",
       "      <td>0.495083</td>\n",
       "      <td>0.404719</td>\n",
       "      <td>16.093913</td>\n",
       "      <td>6.578851</td>\n",
       "      <td>2.624068</td>\n",
       "      <td>227.679012</td>\n",
       "      <td>167.498372</td>\n",
       "      <td>218.425761</td>\n",
       "      <td>1.074714</td>\n",
       "      <td>0.762342</td>\n",
       "      <td>0.315358</td>\n",
       "    </tr>\n",
       "    <tr>\n",
       "      <th>min</th>\n",
       "      <td>1.000000</td>\n",
       "      <td>1.000000</td>\n",
       "      <td>4.000000</td>\n",
       "      <td>0.400000</td>\n",
       "      <td>0.100000</td>\n",
       "      <td>63.000000</td>\n",
       "      <td>10.000000</td>\n",
       "      <td>10.000000</td>\n",
       "      <td>2.700000</td>\n",
       "      <td>0.900000</td>\n",
       "      <td>0.300000</td>\n",
       "    </tr>\n",
       "    <tr>\n",
       "      <th>25%</th>\n",
       "      <td>1.000000</td>\n",
       "      <td>2.000000</td>\n",
       "      <td>32.000000</td>\n",
       "      <td>0.800000</td>\n",
       "      <td>0.200000</td>\n",
       "      <td>174.000000</td>\n",
       "      <td>25.000000</td>\n",
       "      <td>27.000000</td>\n",
       "      <td>5.700000</td>\n",
       "      <td>2.600000</td>\n",
       "      <td>0.800000</td>\n",
       "    </tr>\n",
       "    <tr>\n",
       "      <th>50%</th>\n",
       "      <td>1.000000</td>\n",
       "      <td>2.000000</td>\n",
       "      <td>43.000000</td>\n",
       "      <td>1.000000</td>\n",
       "      <td>0.300000</td>\n",
       "      <td>205.000000</td>\n",
       "      <td>37.000000</td>\n",
       "      <td>41.000000</td>\n",
       "      <td>6.400000</td>\n",
       "      <td>3.100000</td>\n",
       "      <td>0.960000</td>\n",
       "    </tr>\n",
       "    <tr>\n",
       "      <th>75%</th>\n",
       "      <td>2.000000</td>\n",
       "      <td>2.000000</td>\n",
       "      <td>57.000000</td>\n",
       "      <td>2.100000</td>\n",
       "      <td>1.000000</td>\n",
       "      <td>285.000000</td>\n",
       "      <td>61.000000</td>\n",
       "      <td>73.000000</td>\n",
       "      <td>7.100000</td>\n",
       "      <td>3.700000</td>\n",
       "      <td>1.100000</td>\n",
       "    </tr>\n",
       "    <tr>\n",
       "      <th>max</th>\n",
       "      <td>2.000000</td>\n",
       "      <td>2.000000</td>\n",
       "      <td>90.000000</td>\n",
       "      <td>75.000000</td>\n",
       "      <td>18.300000</td>\n",
       "      <td>1896.000000</td>\n",
       "      <td>1680.000000</td>\n",
       "      <td>4929.000000</td>\n",
       "      <td>9.600000</td>\n",
       "      <td>5.500000</td>\n",
       "      <td>2.800000</td>\n",
       "    </tr>\n",
       "  </tbody>\n",
       "</table>\n",
       "</div>"
      ],
      "text/plain": [
       "          ldisease       gender          age  total_brubin  direct_brubin  \\\n",
       "count  1169.000000  1169.000000  1169.000000   1169.000000    1169.000000   \n",
       "mean      1.428571     1.793841    43.976903      3.060137       1.294012   \n",
       "std       0.495083     0.404719    16.093913      6.578851       2.624068   \n",
       "min       1.000000     1.000000     4.000000      0.400000       0.100000   \n",
       "25%       1.000000     2.000000    32.000000      0.800000       0.200000   \n",
       "50%       1.000000     2.000000    43.000000      1.000000       0.300000   \n",
       "75%       2.000000     2.000000    57.000000      2.100000       1.000000   \n",
       "max       2.000000     2.000000    90.000000     75.000000      18.300000   \n",
       "\n",
       "          alk_phos    alam_amin     asp_amin  total_proteins      albumin  \\\n",
       "count  1169.000000  1169.000000  1169.000000     1169.000000  1169.000000   \n",
       "mean    279.437126    77.011121    94.988024        6.410864     3.138238   \n",
       "std     227.679012   167.498372   218.425761        1.074714     0.762342   \n",
       "min      63.000000    10.000000    10.000000        2.700000     0.900000   \n",
       "25%     174.000000    25.000000    27.000000        5.700000     2.600000   \n",
       "50%     205.000000    37.000000    41.000000        6.400000     3.100000   \n",
       "75%     285.000000    61.000000    73.000000        7.100000     3.700000   \n",
       "max    1896.000000  1680.000000  4929.000000        9.600000     5.500000   \n",
       "\n",
       "       alb_glob_ratio  \n",
       "count     1160.000000  \n",
       "mean         0.969526  \n",
       "std          0.315358  \n",
       "min          0.300000  \n",
       "25%          0.800000  \n",
       "50%          0.960000  \n",
       "75%          1.100000  \n",
       "max          2.800000  "
      ]
     },
     "execution_count": 91,
     "metadata": {},
     "output_type": "execute_result"
    }
   ],
   "source": [
    "dataset.describe() # to describe all the statistics"
   ]
  },
  {
   "cell_type": "code",
   "execution_count": 92,
   "metadata": {},
   "outputs": [
    {
     "data": {
      "text/plain": [
       "ldisease          0\n",
       "gender            0\n",
       "age               0\n",
       "total_brubin      0\n",
       "direct_brubin     0\n",
       "alk_phos          0\n",
       "alam_amin         0\n",
       "asp_amin          0\n",
       "total_proteins    0\n",
       "albumin           0\n",
       "alb_glob_ratio    9\n",
       "dtype: int64"
      ]
     },
     "execution_count": 92,
     "metadata": {},
     "output_type": "execute_result"
    }
   ],
   "source": [
    "dataset.isnull().sum() # to get the sum of all null values\n",
    "# In case of missing values\n",
    "#dataset['Age'].fillna(value=int(dataset['Age'].median(skipna=True)), inplace=True)\n",
    "#dataset['Fare'].fillna(value=int(dataset['Fare'].median(skipna=True)), inplace=True)\n",
    "# For  Objective variables we need to replace with Mode\n",
    "#full_df['Embarked'].fillna(value=full_df['Embarked'].mode()[0], inplace=True)"
   ]
  },
  {
   "cell_type": "code",
   "execution_count": 93,
   "metadata": {},
   "outputs": [],
   "source": [
    "# Since the column 'alb_glob_ratio' contains 9 missing values\n",
    "# TO fill the missing values with median\n",
    "\n",
    "dataset['alb_glob_ratio'].fillna(value=float(dataset['alb_glob_ratio'].median(skipna=True)), inplace=True)"
   ]
  },
  {
   "cell_type": "code",
   "execution_count": 94,
   "metadata": {},
   "outputs": [
    {
     "data": {
      "text/plain": [
       "ldisease          0\n",
       "gender            0\n",
       "age               0\n",
       "total_brubin      0\n",
       "direct_brubin     0\n",
       "alk_phos          0\n",
       "alam_amin         0\n",
       "asp_amin          0\n",
       "total_proteins    0\n",
       "albumin           0\n",
       "alb_glob_ratio    0\n",
       "dtype: int64"
      ]
     },
     "execution_count": 94,
     "metadata": {},
     "output_type": "execute_result"
    }
   ],
   "source": [
    "dataset.isnull().sum()"
   ]
  },
  {
   "cell_type": "code",
   "execution_count": 95,
   "metadata": {},
   "outputs": [
    {
     "data": {
      "text/plain": [
       "(1169, 10)"
      ]
     },
     "execution_count": 95,
     "metadata": {},
     "output_type": "execute_result"
    }
   ],
   "source": [
    "X=dataset.iloc[:,1:]  # (all rows & from first column leaving the 0th colunm)\n",
    "X.shape"
   ]
  },
  {
   "cell_type": "code",
   "execution_count": 96,
   "metadata": {},
   "outputs": [
    {
     "data": {
      "text/plain": [
       "(1169,)"
      ]
     },
     "execution_count": 96,
     "metadata": {},
     "output_type": "execute_result"
    }
   ],
   "source": [
    "y=dataset.iloc[:,0] # all rows & only 0th column\n",
    "y.shape"
   ]
  },
  {
   "cell_type": "code",
   "execution_count": 97,
   "metadata": {},
   "outputs": [
    {
     "name": "stdout",
     "output_type": "stream",
     "text": [
      "(825, 11)\n"
     ]
    }
   ],
   "source": [
    "dataset=dataset.drop_duplicates() # to eliminate the repeated rows\n",
    "print(dataset.shape) # to describe the structure after deleting the duplicates"
   ]
  },
  {
   "cell_type": "code",
   "execution_count": 98,
   "metadata": {},
   "outputs": [
    {
     "data": {
      "image/png": "[encoded data removed]",
      "text/plain": [
       "<Figure size 432x288 with 1 Axes>"
      ]
     },
     "metadata": {
      "needs_background": "light"
     },
     "output_type": "display_data"
    }
   ],
   "source": [
    "sns.boxplot(dataset.age)\n",
    "plt.show()"
   ]
  },
  {
   "cell_type": "code",
   "execution_count": 99,
   "metadata": {},
   "outputs": [
    {
     "data": {
      "image/png": "[encoded data removed]",
      "text/plain": [
       "<Figure size 432x288 with 1 Axes>"
      ]
     },
     "metadata": {
      "needs_background": "light"
     },
     "output_type": "display_data"
    }
   ],
   "source": [
    "sns.boxplot(dataset.total_brubin)\n",
    "plt.show()"
   ]
  },
  {
   "cell_type": "code",
   "execution_count": 100,
   "metadata": {},
   "outputs": [],
   "source": [
    "dataset.loc[dataset['total_brubin']>dataset['total_brubin'].quantile(0.80),['total_brubin']]=dataset['total_brubin'].quantile(0.80)"
   ]
  },
  {
   "cell_type": "code",
   "execution_count": 101,
   "metadata": {},
   "outputs": [
    {
     "data": {
      "image/png": "[encoded data removed]",
      "text/plain": [
       "<Figure size 432x288 with 1 Axes>"
      ]
     },
     "metadata": {
      "needs_background": "light"
     },
     "output_type": "display_data"
    }
   ],
   "source": [
    "sns.boxplot(dataset.total_brubin)\n",
    "plt.show()"
   ]
  },
  {
   "cell_type": "code",
   "execution_count": 102,
   "metadata": {},
   "outputs": [
    {
     "data": {
      "image/png": "[encoded data removed]",
      "text/plain": [
       "<Figure size 432x288 with 1 Axes>"
      ]
     },
     "metadata": {
      "needs_background": "light"
     },
     "output_type": "display_data"
    }
   ],
   "source": [
    "sns.boxplot(dataset.direct_brubin)\n",
    "plt.show()"
   ]
  },
  {
   "cell_type": "code",
   "execution_count": 103,
   "metadata": {},
   "outputs": [],
   "source": [
    "dataset.loc[dataset['direct_brubin']>dataset['direct_brubin'].quantile(0.84),['direct_brubin']]=dataset['direct_brubin'].quantile(0.84)"
   ]
  },
  {
   "cell_type": "code",
   "execution_count": 104,
   "metadata": {},
   "outputs": [
    {
     "data": {
      "image/png": "[encoded data removed]",
      "text/plain": [
       "<Figure size 432x288 with 1 Axes>"
      ]
     },
     "metadata": {
      "needs_background": "light"
     },
     "output_type": "display_data"
    }
   ],
   "source": [
    "sns.boxplot(dataset.direct_brubin)\n",
    "plt.show()"
   ]
  },
  {
   "cell_type": "code",
   "execution_count": 105,
   "metadata": {},
   "outputs": [
    {
     "data": {
      "image/png": "[encoded data removed]",
      "text/plain": [
       "<Figure size 432x288 with 1 Axes>"
      ]
     },
     "metadata": {
      "needs_background": "light"
     },
     "output_type": "display_data"
    }
   ],
   "source": [
    "sns.boxplot(dataset.alk_phos)\n",
    "plt.show()"
   ]
  },
  {
   "cell_type": "code",
   "execution_count": 106,
   "metadata": {},
   "outputs": [],
   "source": [
    "dataset.loc[dataset['alk_phos']>dataset['alk_phos'].quantile(0.85),['alk_phos']]=dataset['alk_phos'].quantile(0.85)"
   ]
  },
  {
   "cell_type": "code",
   "execution_count": 107,
   "metadata": {
    "scrolled": true
   },
   "outputs": [
    {
     "data": {
      "image/png": "[encoded data removed]",
      "text/plain": [
       "<Figure size 432x288 with 1 Axes>"
      ]
     },
     "metadata": {
      "needs_background": "light"
     },
     "output_type": "display_data"
    }
   ],
   "source": [
    "sns.boxplot(dataset.alk_phos)\n",
    "plt.show()"
   ]
  },
  {
   "cell_type": "code",
   "execution_count": 108,
   "metadata": {},
   "outputs": [
    {
     "data": {
      "image/png": "[encoded data removed]",
      "text/plain": [
       "<Figure size 432x288 with 1 Axes>"
      ]
     },
     "metadata": {
      "needs_background": "light"
     },
     "output_type": "display_data"
    }
   ],
   "source": [
    "sns.boxplot(dataset.alam_amin)\n",
    "plt.show()"
   ]
  },
  {
   "cell_type": "code",
   "execution_count": 109,
   "metadata": {},
   "outputs": [],
   "source": [
    "dataset.loc[dataset['alam_amin']>dataset['alam_amin'].quantile(0.85),['alam_amin']]=dataset['alam_amin'].quantile(0.85)"
   ]
  },
  {
   "cell_type": "code",
   "execution_count": 110,
   "metadata": {},
   "outputs": [
    {
     "data": {
      "image/png": "[encoded data removed]",
      "text/plain": [
       "<Figure size 432x288 with 1 Axes>"
      ]
     },
     "metadata": {
      "needs_background": "light"
     },
     "output_type": "display_data"
    }
   ],
   "source": [
    "sns.boxplot(dataset.alam_amin)\n",
    "plt.show()"
   ]
  },
  {
   "cell_type": "code",
   "execution_count": 111,
   "metadata": {},
   "outputs": [
    {
     "data": {
      "image/png": "[encoded data removed]",
      "text/plain": [
       "<Figure size 432x288 with 1 Axes>"
      ]
     },
     "metadata": {
      "needs_background": "light"
     },
     "output_type": "display_data"
    }
   ],
   "source": [
    "sns.boxplot(dataset.asp_amin)\n",
    "plt.show()"
   ]
  },
  {
   "cell_type": "code",
   "execution_count": 112,
   "metadata": {},
   "outputs": [],
   "source": [
    "dataset.loc[dataset['asp_amin']>dataset['asp_amin'].quantile(0.85),['asp_amin']]=dataset['asp_amin'].quantile(0.85)"
   ]
  },
  {
   "cell_type": "code",
   "execution_count": 113,
   "metadata": {},
   "outputs": [
    {
     "data": {
      "image/png": "[encoded data removed]",
      "text/plain": [
       "<Figure size 432x288 with 1 Axes>"
      ]
     },
     "metadata": {
      "needs_background": "light"
     },
     "output_type": "display_data"
    }
   ],
   "source": [
    "sns.boxplot(dataset.asp_amin)\n",
    "plt.show()"
   ]
  },
  {
   "cell_type": "code",
   "execution_count": 114,
   "metadata": {},
   "outputs": [
    {
     "data": {
      "image/png": "[encoded data removed]",
      "text/plain": [
       "<Figure size 432x288 with 1 Axes>"
      ]
     },
     "metadata": {
      "needs_background": "light"
     },
     "output_type": "display_data"
    }
   ],
   "source": [
    "sns.boxplot(dataset.total_proteins)\n",
    "plt.show()"
   ]
  },
  {
   "cell_type": "code",
   "execution_count": 115,
   "metadata": {},
   "outputs": [],
   "source": [
    "dataset.loc[dataset['total_proteins']>dataset['total_proteins'].quantile(0.95),['total_proteins']]=dataset['total_proteins'].quantile(0.95)\n",
    "dataset.loc[dataset['total_proteins']<dataset['total_proteins'].quantile(0.05),['total_proteins']]=dataset['total_proteins'].quantile(0.05)"
   ]
  },
  {
   "cell_type": "code",
   "execution_count": 116,
   "metadata": {},
   "outputs": [
    {
     "data": {
      "image/png": "[encoded data removed]",
      "text/plain": [
       "<Figure size 432x288 with 1 Axes>"
      ]
     },
     "metadata": {
      "needs_background": "light"
     },
     "output_type": "display_data"
    }
   ],
   "source": [
    "sns.boxplot(dataset.total_proteins)\n",
    "plt.show()"
   ]
  },
  {
   "cell_type": "code",
   "execution_count": 117,
   "metadata": {},
   "outputs": [
    {
     "data": {
      "image/png": "[encoded data removed]",
      "text/plain": [
       "<Figure size 432x288 with 1 Axes>"
      ]
     },
     "metadata": {
      "needs_background": "light"
     },
     "output_type": "display_data"
    }
   ],
   "source": [
    "sns.boxplot(dataset.albumin)\n",
    "plt.show()"
   ]
  },
  {
   "cell_type": "code",
   "execution_count": 118,
   "metadata": {},
   "outputs": [],
   "source": [
    "dataset.loc[dataset['albumin']>dataset['albumin'].quantile(0.95),['albumin']]=dataset['albumin'].quantile(0.95)\n",
    "dataset.loc[dataset['albumin']<dataset['albumin'].quantile(0.05),['albumin']]=dataset['albumin'].quantile(0.05)"
   ]
  },
  {
   "cell_type": "code",
   "execution_count": 119,
   "metadata": {},
   "outputs": [
    {
     "data": {
      "image/png": "[encoded data removed]",
      "text/plain": [
       "<Figure size 432x288 with 1 Axes>"
      ]
     },
     "metadata": {
      "needs_background": "light"
     },
     "output_type": "display_data"
    }
   ],
   "source": [
    "sns.boxplot(dataset.albumin)\n",
    "plt.show()"
   ]
  },
  {
   "cell_type": "code",
   "execution_count": 120,
   "metadata": {},
   "outputs": [
    {
     "data": {
      "image/png": "[encoded data removed]",
      "text/plain": [
       "<Figure size 432x288 with 1 Axes>"
      ]
     },
     "metadata": {
      "needs_background": "light"
     },
     "output_type": "display_data"
    }
   ],
   "source": [
    "sns.boxplot(dataset.alb_glob_ratio)\n",
    "plt.show()"
   ]
  },
  {
   "cell_type": "code",
   "execution_count": 121,
   "metadata": {},
   "outputs": [],
   "source": [
    "dataset.loc[dataset['alb_glob_ratio']>dataset['alb_glob_ratio'].quantile(0.90),['alb_glob_ratio']]=dataset['alb_glob_ratio'].quantile(0.90)\n",
    "dataset.loc[dataset['alb_glob_ratio']<dataset['alb_glob_ratio'].quantile(0.05),['alb_glob_ratio']]=dataset['alb_glob_ratio'].quantile(0.05)"
   ]
  },
  {
   "cell_type": "code",
   "execution_count": 122,
   "metadata": {},
   "outputs": [
    {
     "data": {
      "image/png": "[encoded data removed]",
      "text/plain": [
       "<Figure size 432x288 with 1 Axes>"
      ]
     },
     "metadata": {
      "needs_background": "light"
     },
     "output_type": "display_data"
    }
   ],
   "source": [
    "sns.boxplot(dataset.alb_glob_ratio)\n",
    "plt.show()"
   ]
  },
  {
   "cell_type": "code",
   "execution_count": 123,
   "metadata": {},
   "outputs": [
    {
     "name": "stderr",
     "output_type": "stream",
     "text": [
      "C:\\Users\\Noothna Sree\\anaconda\\lib\\site-packages\\ipykernel_launcher.py:1: FutureWarning: pandas.scatter_matrix is deprecated, use pandas.plotting.scatter_matrix instead\n",
      "  \"\"\"Entry point for launching an IPython kernel.\n"
     ]
    },
    {
     "data": {
      "text/plain": [
       "array([[<matplotlib.axes._subplots.AxesSubplot object at 0x0DE8ADD0>,\n",
       "        <matplotlib.axes._subplots.AxesSubplot object at 0x0DE97B90>,\n",
       "        <matplotlib.axes._subplots.AxesSubplot object at 0x0DEC4990>,\n",
       "        <matplotlib.axes._subplots.AxesSubplot object at 0x0E060AF0>,\n",
       "        <matplotlib.axes._subplots.AxesSubplot object at 0x0E079C50>,\n",
       "        <matplotlib.axes._subplots.AxesSubplot object at 0x0E079C70>,\n",
       "        <matplotlib.axes._subplots.AxesSubplot object at 0x0E095DD0>,\n",
       "        <matplotlib.axes._subplots.AxesSubplot object at 0x0E0D60D0>,\n",
       "        <matplotlib.axes._subplots.AxesSubplot object at 0x0E0F0230>,\n",
       "        <matplotlib.axes._subplots.AxesSubplot object at 0x0E10C390>,\n",
       "        <matplotlib.axes._subplots.AxesSubplot object at 0x0E1264B0>],\n",
       "       [<matplotlib.axes._subplots.AxesSubplot object at 0x0E126C90>,\n",
       "        <matplotlib.axes._subplots.AxesSubplot object at 0x0E15E710>,\n",
       "        <matplotlib.axes._subplots.AxesSubplot object at 0x0E179870>,\n",
       "        <matplotlib.axes._subplots.AxesSubplot object at 0x0E1939D0>,\n",
       "        <matplotlib.axes._subplots.AxesSubplot object at 0x0E1AFB30>,\n",
       "        <matplotlib.axes._subplots.AxesSubplot object at 0x0E1C9C90>,\n",
       "        <matplotlib.axes._subplots.AxesSubplot object at 0x0E1E7DF0>,\n",
       "        <matplotlib.axes._subplots.AxesSubplot object at 0x0E201F50>,\n",
       "        <matplotlib.axes._subplots.AxesSubplot object at 0x12F270D0>,\n",
       "        <matplotlib.axes._subplots.AxesSubplot object at 0x12F40230>,\n",
       "        <matplotlib.axes._subplots.AxesSubplot object at 0x12F5D390>],\n",
       "       [<matplotlib.axes._subplots.AxesSubplot object at 0x12F774F0>,\n",
       "        <matplotlib.axes._subplots.AxesSubplot object at 0x12F90650>,\n",
       "        <matplotlib.axes._subplots.AxesSubplot object at 0x12FAD7B0>,\n",
       "        <matplotlib.axes._subplots.AxesSubplot object at 0x12FC8910>,\n",
       "        <matplotlib.axes._subplots.AxesSubplot object at 0x15192A70>,\n",
       "        <matplotlib.axes._subplots.AxesSubplot object at 0x151AEBD0>,\n",
       "        <matplotlib.axes._subplots.AxesSubplot object at 0x151C8D30>,\n",
       "        <matplotlib.axes._subplots.AxesSubplot object at 0x151E5E90>,\n",
       "        <matplotlib.axes._subplots.AxesSubplot object at 0x15200FF0>,\n",
       "        <matplotlib.axes._subplots.AxesSubplot object at 0x15225170>,\n",
       "        <matplotlib.axes._subplots.AxesSubplot object at 0x152422D0>],\n",
       "       [<matplotlib.axes._subplots.AxesSubplot object at 0x1525B430>,\n",
       "        <matplotlib.axes._subplots.AxesSubplot object at 0x15276590>,\n",
       "        <matplotlib.axes._subplots.AxesSubplot object at 0x152916F0>,\n",
       "        <matplotlib.axes._subplots.AxesSubplot object at 0x152AD850>,\n",
       "        <matplotlib.axes._subplots.AxesSubplot object at 0x152C89B0>,\n",
       "        <matplotlib.axes._subplots.AxesSubplot object at 0x152E4B10>,\n",
       "        <matplotlib.axes._subplots.AxesSubplot object at 0x152FFC70>,\n",
       "        <matplotlib.axes._subplots.AxesSubplot object at 0x1531ADD0>,\n",
       "        <matplotlib.axes._subplots.AxesSubplot object at 0x15336F30>,\n",
       "        <matplotlib.axes._subplots.AxesSubplot object at 0x1535A0B0>,\n",
       "        <matplotlib.axes._subplots.AxesSubplot object at 0x15375210>],\n",
       "       [<matplotlib.axes._subplots.AxesSubplot object at 0x15391370>,\n",
       "        <matplotlib.axes._subplots.AxesSubplot object at 0x153AC4D0>,\n",
       "        <matplotlib.axes._subplots.AxesSubplot object at 0x153C6630>,\n",
       "        <matplotlib.axes._subplots.AxesSubplot object at 0x153E1790>,\n",
       "        <matplotlib.axes._subplots.AxesSubplot object at 0x0DE43830>,\n",
       "        <matplotlib.axes._subplots.AxesSubplot object at 0x0DE08690>,\n",
       "        <matplotlib.axes._subplots.AxesSubplot object at 0x0DDEE9F0>,\n",
       "        <matplotlib.axes._subplots.AxesSubplot object at 0x0DD6B0B0>,\n",
       "        <matplotlib.axes._subplots.AxesSubplot object at 0x03EC5390>,\n",
       "        <matplotlib.axes._subplots.AxesSubplot object at 0x03E8B910>,\n",
       "        <matplotlib.axes._subplots.AxesSubplot object at 0x03E10A50>],\n",
       "       [<matplotlib.axes._subplots.AxesSubplot object at 0x03D9F630>,\n",
       "        <matplotlib.axes._subplots.AxesSubplot object at 0x03D458F0>,\n",
       "        <matplotlib.axes._subplots.AxesSubplot object at 0x0D207190>,\n",
       "        <matplotlib.axes._subplots.AxesSubplot object at 0x0E770A90>,\n",
       "        <matplotlib.axes._subplots.AxesSubplot object at 0x0DD1F9B0>,\n",
       "        <matplotlib.axes._subplots.AxesSubplot object at 0x0DDBDD10>,\n",
       "        <matplotlib.axes._subplots.AxesSubplot object at 0x03E281F0>,\n",
       "        <matplotlib.axes._subplots.AxesSubplot object at 0x153ECE30>,\n",
       "        <matplotlib.axes._subplots.AxesSubplot object at 0x0DE0DF90>,\n",
       "        <matplotlib.axes._subplots.AxesSubplot object at 0x03E83110>,\n",
       "        <matplotlib.axes._subplots.AxesSubplot object at 0x03E66270>],\n",
       "       [<matplotlib.axes._subplots.AxesSubplot object at 0x0DD8A3D0>,\n",
       "        <matplotlib.axes._subplots.AxesSubplot object at 0x0DDA5530>,\n",
       "        <matplotlib.axes._subplots.AxesSubplot object at 0x0DD9A690>,\n",
       "        <matplotlib.axes._subplots.AxesSubplot object at 0x03EAF7F0>,\n",
       "        <matplotlib.axes._subplots.AxesSubplot object at 0x03E9C950>,\n",
       "        <matplotlib.axes._subplots.AxesSubplot object at 0x03E42AB0>,\n",
       "        <matplotlib.axes._subplots.AxesSubplot object at 0x03D90C10>,\n",
       "        <matplotlib.axes._subplots.AxesSubplot object at 0x03DC8D70>,\n",
       "        <matplotlib.axes._subplots.AxesSubplot object at 0x03E00ED0>,\n",
       "        <matplotlib.axes._subplots.AxesSubplot object at 0x03DF8050>,\n",
       "        <matplotlib.axes._subplots.AxesSubplot object at 0x03D6F1B0>],\n",
       "       [<matplotlib.axes._subplots.AxesSubplot object at 0x03D63310>,\n",
       "        <matplotlib.axes._subplots.AxesSubplot object at 0x1540F470>,\n",
       "        <matplotlib.axes._subplots.AxesSubplot object at 0x154295D0>,\n",
       "        <matplotlib.axes._subplots.AxesSubplot object at 0x15444730>,\n",
       "        <matplotlib.axes._subplots.AxesSubplot object at 0x1545E890>,\n",
       "        <matplotlib.axes._subplots.AxesSubplot object at 0x154799F0>,\n",
       "        <matplotlib.axes._subplots.AxesSubplot object at 0x15494B50>,\n",
       "        <matplotlib.axes._subplots.AxesSubplot object at 0x154B0CB0>,\n",
       "        <matplotlib.axes._subplots.AxesSubplot object at 0x154CBE10>,\n",
       "        <matplotlib.axes._subplots.AxesSubplot object at 0x154E4F70>,\n",
       "        <matplotlib.axes._subplots.AxesSubplot object at 0x155080F0>],\n",
       "       [<matplotlib.axes._subplots.AxesSubplot object at 0x15525250>,\n",
       "        <matplotlib.axes._subplots.AxesSubplot object at 0x1553F3B0>,\n",
       "        <matplotlib.axes._subplots.AxesSubplot object at 0x1555B510>,\n",
       "        <matplotlib.axes._subplots.AxesSubplot object at 0x15576670>,\n",
       "        <matplotlib.axes._subplots.AxesSubplot object at 0x155927D0>,\n",
       "        <matplotlib.axes._subplots.AxesSubplot object at 0x155AC930>,\n",
       "        <matplotlib.axes._subplots.AxesSubplot object at 0x155C5A90>,\n",
       "        <matplotlib.axes._subplots.AxesSubplot object at 0x155E2BF0>,\n",
       "        <matplotlib.axes._subplots.AxesSubplot object at 0x155FBD50>,\n",
       "        <matplotlib.axes._subplots.AxesSubplot object at 0x1561AEB0>,\n",
       "        <matplotlib.axes._subplots.AxesSubplot object at 0x1563E030>],\n",
       "       [<matplotlib.axes._subplots.AxesSubplot object at 0x1565A190>,\n",
       "        <matplotlib.axes._subplots.AxesSubplot object at 0x156732F0>,\n",
       "        <matplotlib.axes._subplots.AxesSubplot object at 0x1568D450>,\n",
       "        <matplotlib.axes._subplots.AxesSubplot object at 0x156A95B0>,\n",
       "        <matplotlib.axes._subplots.AxesSubplot object at 0x156C5710>,\n",
       "        <matplotlib.axes._subplots.AxesSubplot object at 0x156E0870>,\n",
       "        <matplotlib.axes._subplots.AxesSubplot object at 0x156FC9D0>,\n",
       "        <matplotlib.axes._subplots.AxesSubplot object at 0x15715B30>,\n",
       "        <matplotlib.axes._subplots.AxesSubplot object at 0x15731C90>,\n",
       "        <matplotlib.axes._subplots.AxesSubplot object at 0x1574DDF0>,\n",
       "        <matplotlib.axes._subplots.AxesSubplot object at 0x15769F50>],\n",
       "       [<matplotlib.axes._subplots.AxesSubplot object at 0x1578D0D0>,\n",
       "        <matplotlib.axes._subplots.AxesSubplot object at 0x157AA230>,\n",
       "        <matplotlib.axes._subplots.AxesSubplot object at 0x157C4390>,\n",
       "        <matplotlib.axes._subplots.AxesSubplot object at 0x157DE4F0>,\n",
       "        <matplotlib.axes._subplots.AxesSubplot object at 0x157F9650>,\n",
       "        <matplotlib.axes._subplots.AxesSubplot object at 0x158147B0>,\n",
       "        <matplotlib.axes._subplots.AxesSubplot object at 0x15830910>,\n",
       "        <matplotlib.axes._subplots.AxesSubplot object at 0x1584CA70>,\n",
       "        <matplotlib.axes._subplots.AxesSubplot object at 0x15868BD0>,\n",
       "        <matplotlib.axes._subplots.AxesSubplot object at 0x15882D30>,\n",
       "        <matplotlib.axes._subplots.AxesSubplot object at 0x1589EE90>]],\n",
       "      dtype=object)"
      ]
     },
     "execution_count": 123,
     "metadata": {},
     "output_type": "execute_result"
    },
    {
     "data": {
      "image/png": "[encoded data removed]",
      "text/plain": [
       "<Figure size 432x288 with 121 Axes>"
      ]
     },
     "metadata": {
      "needs_background": "light"
     },
     "output_type": "display_data"
    }
   ],
   "source": [
    "pd.scatter_matrix(dataset)"
   ]
  },
  {
   "cell_type": "code",
   "execution_count": 124,
   "metadata": {},
   "outputs": [],
   "source": [
    "dataset=dataset.dropna(how='any')"
   ]
  },
  {
   "cell_type": "code",
   "execution_count": 125,
   "metadata": {},
   "outputs": [
    {
     "data": {
      "text/plain": [
       "(825, 11)"
      ]
     },
     "execution_count": 125,
     "metadata": {},
     "output_type": "execute_result"
    }
   ],
   "source": [
    "dataset.shape"
   ]
  },
  {
   "cell_type": "code",
   "execution_count": 126,
   "metadata": {},
   "outputs": [
    {
     "data": {
      "text/html": [
       "<div>\n",
       "<style scoped>\n",
       "    .dataframe tbody tr th:only-of-type {\n",
       "        vertical-align: middle;\n",
       "    }\n",
       "\n",
       "    .dataframe tbody tr th {\n",
       "        vertical-align: top;\n",
       "    }\n",
       "\n",
       "    .dataframe thead th {\n",
       "        text-align: right;\n",
       "    }\n",
       "</style>\n",
       "<table border=\"1\" class=\"dataframe\">\n",
       "  <thead>\n",
       "    <tr style=\"text-align: right;\">\n",
       "      <th></th>\n",
       "      <th>ldisease</th>\n",
       "      <th>gender</th>\n",
       "      <th>age</th>\n",
       "      <th>total_brubin</th>\n",
       "      <th>direct_brubin</th>\n",
       "      <th>alk_phos</th>\n",
       "      <th>alam_amin</th>\n",
       "      <th>asp_amin</th>\n",
       "      <th>total_proteins</th>\n",
       "      <th>albumin</th>\n",
       "      <th>alb_glob_ratio</th>\n",
       "    </tr>\n",
       "  </thead>\n",
       "  <tbody>\n",
       "    <tr>\n",
       "      <th>ldisease</th>\n",
       "      <td>1.000000</td>\n",
       "      <td>0.011896</td>\n",
       "      <td>-0.168332</td>\n",
       "      <td>-0.367646</td>\n",
       "      <td>-0.417464</td>\n",
       "      <td>-0.312938</td>\n",
       "      <td>-0.229669</td>\n",
       "      <td>-0.339374</td>\n",
       "      <td>-0.070532</td>\n",
       "      <td>0.112005</td>\n",
       "      <td>0.241190</td>\n",
       "    </tr>\n",
       "    <tr>\n",
       "      <th>gender</th>\n",
       "      <td>0.011896</td>\n",
       "      <td>1.000000</td>\n",
       "      <td>0.047577</td>\n",
       "      <td>0.164171</td>\n",
       "      <td>0.139803</td>\n",
       "      <td>0.065416</td>\n",
       "      <td>0.154263</td>\n",
       "      <td>0.164868</td>\n",
       "      <td>-0.107376</td>\n",
       "      <td>-0.101397</td>\n",
       "      <td>-0.010016</td>\n",
       "    </tr>\n",
       "    <tr>\n",
       "      <th>age</th>\n",
       "      <td>-0.168332</td>\n",
       "      <td>0.047577</td>\n",
       "      <td>1.000000</td>\n",
       "      <td>0.108339</td>\n",
       "      <td>0.104193</td>\n",
       "      <td>0.144970</td>\n",
       "      <td>0.024425</td>\n",
       "      <td>0.048901</td>\n",
       "      <td>-0.021857</td>\n",
       "      <td>-0.050427</td>\n",
       "      <td>-0.076663</td>\n",
       "    </tr>\n",
       "    <tr>\n",
       "      <th>total_brubin</th>\n",
       "      <td>-0.367646</td>\n",
       "      <td>0.164171</td>\n",
       "      <td>0.108339</td>\n",
       "      <td>1.000000</td>\n",
       "      <td>0.946133</td>\n",
       "      <td>0.335170</td>\n",
       "      <td>0.284557</td>\n",
       "      <td>0.460015</td>\n",
       "      <td>0.002725</td>\n",
       "      <td>-0.182106</td>\n",
       "      <td>-0.273746</td>\n",
       "    </tr>\n",
       "    <tr>\n",
       "      <th>direct_brubin</th>\n",
       "      <td>-0.417464</td>\n",
       "      <td>0.139803</td>\n",
       "      <td>0.104193</td>\n",
       "      <td>0.946133</td>\n",
       "      <td>1.000000</td>\n",
       "      <td>0.352238</td>\n",
       "      <td>0.300938</td>\n",
       "      <td>0.492187</td>\n",
       "      <td>-0.017864</td>\n",
       "      <td>-0.228049</td>\n",
       "      <td>-0.316771</td>\n",
       "    </tr>\n",
       "    <tr>\n",
       "      <th>alk_phos</th>\n",
       "      <td>-0.312938</td>\n",
       "      <td>0.065416</td>\n",
       "      <td>0.144970</td>\n",
       "      <td>0.335170</td>\n",
       "      <td>0.352238</td>\n",
       "      <td>1.000000</td>\n",
       "      <td>0.407317</td>\n",
       "      <td>0.412856</td>\n",
       "      <td>0.123880</td>\n",
       "      <td>-0.074054</td>\n",
       "      <td>-0.279790</td>\n",
       "    </tr>\n",
       "    <tr>\n",
       "      <th>alam_amin</th>\n",
       "      <td>-0.229669</td>\n",
       "      <td>0.154263</td>\n",
       "      <td>0.024425</td>\n",
       "      <td>0.284557</td>\n",
       "      <td>0.300938</td>\n",
       "      <td>0.407317</td>\n",
       "      <td>1.000000</td>\n",
       "      <td>0.722566</td>\n",
       "      <td>-0.006330</td>\n",
       "      <td>-0.059296</td>\n",
       "      <td>-0.101896</td>\n",
       "    </tr>\n",
       "    <tr>\n",
       "      <th>asp_amin</th>\n",
       "      <td>-0.339374</td>\n",
       "      <td>0.164868</td>\n",
       "      <td>0.048901</td>\n",
       "      <td>0.460015</td>\n",
       "      <td>0.492187</td>\n",
       "      <td>0.412856</td>\n",
       "      <td>0.722566</td>\n",
       "      <td>1.000000</td>\n",
       "      <td>-0.041589</td>\n",
       "      <td>-0.164307</td>\n",
       "      <td>-0.197922</td>\n",
       "    </tr>\n",
       "    <tr>\n",
       "      <th>total_proteins</th>\n",
       "      <td>-0.070532</td>\n",
       "      <td>-0.107376</td>\n",
       "      <td>-0.021857</td>\n",
       "      <td>0.002725</td>\n",
       "      <td>-0.017864</td>\n",
       "      <td>0.123880</td>\n",
       "      <td>-0.006330</td>\n",
       "      <td>-0.041589</td>\n",
       "      <td>1.000000</td>\n",
       "      <td>0.791086</td>\n",
       "      <td>0.238828</td>\n",
       "    </tr>\n",
       "    <tr>\n",
       "      <th>albumin</th>\n",
       "      <td>0.112005</td>\n",
       "      <td>-0.101397</td>\n",
       "      <td>-0.050427</td>\n",
       "      <td>-0.182106</td>\n",
       "      <td>-0.228049</td>\n",
       "      <td>-0.074054</td>\n",
       "      <td>-0.059296</td>\n",
       "      <td>-0.164307</td>\n",
       "      <td>0.791086</td>\n",
       "      <td>1.000000</td>\n",
       "      <td>0.734108</td>\n",
       "    </tr>\n",
       "    <tr>\n",
       "      <th>alb_glob_ratio</th>\n",
       "      <td>0.241190</td>\n",
       "      <td>-0.010016</td>\n",
       "      <td>-0.076663</td>\n",
       "      <td>-0.273746</td>\n",
       "      <td>-0.316771</td>\n",
       "      <td>-0.279790</td>\n",
       "      <td>-0.101896</td>\n",
       "      <td>-0.197922</td>\n",
       "      <td>0.238828</td>\n",
       "      <td>0.734108</td>\n",
       "      <td>1.000000</td>\n",
       "    </tr>\n",
       "  </tbody>\n",
       "</table>\n",
       "</div>"
      ],
      "text/plain": [
       "                ldisease    gender       age  total_brubin  direct_brubin  \\\n",
       "ldisease        1.000000  0.011896 -0.168332     -0.367646      -0.417464   \n",
       "gender          0.011896  1.000000  0.047577      0.164171       0.139803   \n",
       "age            -0.168332  0.047577  1.000000      0.108339       0.104193   \n",
       "total_brubin   -0.367646  0.164171  0.108339      1.000000       0.946133   \n",
       "direct_brubin  -0.417464  0.139803  0.104193      0.946133       1.000000   \n",
       "alk_phos       -0.312938  0.065416  0.144970      0.335170       0.352238   \n",
       "alam_amin      -0.229669  0.154263  0.024425      0.284557       0.300938   \n",
       "asp_amin       -0.339374  0.164868  0.048901      0.460015       0.492187   \n",
       "total_proteins -0.070532 -0.107376 -0.021857      0.002725      -0.017864   \n",
       "albumin         0.112005 -0.101397 -0.050427     -0.182106      -0.228049   \n",
       "alb_glob_ratio  0.241190 -0.010016 -0.076663     -0.273746      -0.316771   \n",
       "\n",
       "                alk_phos  alam_amin  asp_amin  total_proteins   albumin  \\\n",
       "ldisease       -0.312938  -0.229669 -0.339374       -0.070532  0.112005   \n",
       "gender          0.065416   0.154263  0.164868       -0.107376 -0.101397   \n",
       "age             0.144970   0.024425  0.048901       -0.021857 -0.050427   \n",
       "total_brubin    0.335170   0.284557  0.460015        0.002725 -0.182106   \n",
       "direct_brubin   0.352238   0.300938  0.492187       -0.017864 -0.228049   \n",
       "alk_phos        1.000000   0.407317  0.412856        0.123880 -0.074054   \n",
       "alam_amin       0.407317   1.000000  0.722566       -0.006330 -0.059296   \n",
       "asp_amin        0.412856   0.722566  1.000000       -0.041589 -0.164307   \n",
       "total_proteins  0.123880  -0.006330 -0.041589        1.000000  0.791086   \n",
       "albumin        -0.074054  -0.059296 -0.164307        0.791086  1.000000   \n",
       "alb_glob_ratio -0.279790  -0.101896 -0.197922        0.238828  0.734108   \n",
       "\n",
       "                alb_glob_ratio  \n",
       "ldisease              0.241190  \n",
       "gender               -0.010016  \n",
       "age                  -0.076663  \n",
       "total_brubin         -0.273746  \n",
       "direct_brubin        -0.316771  \n",
       "alk_phos             -0.279790  \n",
       "alam_amin            -0.101896  \n",
       "asp_amin             -0.197922  \n",
       "total_proteins        0.238828  \n",
       "albumin               0.734108  \n",
       "alb_glob_ratio        1.000000  "
      ]
     },
     "execution_count": 126,
     "metadata": {},
     "output_type": "execute_result"
    }
   ],
   "source": [
    "#correlation\n",
    "#association among features & labels\n",
    "dataset.corr()"
   ]
  },
  {
   "cell_type": "code",
   "execution_count": 127,
   "metadata": {},
   "outputs": [
    {
     "data": {
      "text/plain": [
       "<matplotlib.axes._subplots.AxesSubplot at 0x15e4ac50>"
      ]
     },
     "execution_count": 127,
     "metadata": {},
     "output_type": "execute_result"
    },
    {
     "data": {
      "image/png": "[encoded data removed]",
      "text/plain": [
       "<Figure size 504x504 with 2 Axes>"
      ]
     },
     "metadata": {
      "needs_background": "light"
     },
     "output_type": "display_data"
    }
   ],
   "source": [
    "#corr plt\n",
    "# diagramatic representation\n",
    "plt.figure(figsize=(7,7))\n",
    "sns.heatmap(dataset.corr())"
   ]
  },
  {
   "cell_type": "code",
   "execution_count": 128,
   "metadata": {},
   "outputs": [
    {
     "data": {
      "text/html": [
       "<div>\n",
       "<style scoped>\n",
       "    .dataframe tbody tr th:only-of-type {\n",
       "        vertical-align: middle;\n",
       "    }\n",
       "\n",
       "    .dataframe tbody tr th {\n",
       "        vertical-align: top;\n",
       "    }\n",
       "\n",
       "    .dataframe thead th {\n",
       "        text-align: right;\n",
       "    }\n",
       "</style>\n",
       "<table border=\"1\" class=\"dataframe\">\n",
       "  <thead>\n",
       "    <tr style=\"text-align: right;\">\n",
       "      <th>gender</th>\n",
       "      <th>1</th>\n",
       "      <th>2</th>\n",
       "      <th>All</th>\n",
       "    </tr>\n",
       "    <tr>\n",
       "      <th>ldisease</th>\n",
       "      <th></th>\n",
       "      <th></th>\n",
       "      <th></th>\n",
       "    </tr>\n",
       "  </thead>\n",
       "  <tbody>\n",
       "    <tr>\n",
       "      <th>1</th>\n",
       "      <td>72</td>\n",
       "      <td>262</td>\n",
       "      <td>334</td>\n",
       "    </tr>\n",
       "    <tr>\n",
       "      <th>2</th>\n",
       "      <td>101</td>\n",
       "      <td>390</td>\n",
       "      <td>491</td>\n",
       "    </tr>\n",
       "    <tr>\n",
       "      <th>All</th>\n",
       "      <td>173</td>\n",
       "      <td>652</td>\n",
       "      <td>825</td>\n",
       "    </tr>\n",
       "  </tbody>\n",
       "</table>\n",
       "</div>"
      ],
      "text/plain": [
       "gender      1    2  All\n",
       "ldisease               \n",
       "1          72  262  334\n",
       "2         101  390  491\n",
       "All       173  652  825"
      ]
     },
     "execution_count": 128,
     "metadata": {},
     "output_type": "execute_result"
    }
   ],
   "source": [
    "# Bi variate Categorical VS Categorical\n",
    "ct=pd.crosstab(dataset['ldisease'],dataset['gender'],margins=True)#to build the two dimentional table\n",
    "ct"
   ]
  },
  {
   "cell_type": "code",
   "execution_count": 129,
   "metadata": {},
   "outputs": [
    {
     "data": {
      "text/plain": [
       "<matplotlib.axes._subplots.AxesSubplot at 0x15e57b90>"
      ]
     },
     "execution_count": 129,
     "metadata": {},
     "output_type": "execute_result"
    },
    {
     "data": {
      "image/png": "[encoded data removed]",
      "text/plain": [
       "<Figure size 432x288 with 1 Axes>"
      ]
     },
     "metadata": {
      "needs_background": "light"
     },
     "output_type": "display_data"
    }
   ],
   "source": [
    "# Categorical Vs categorical Plts\n",
    "import matplotlib\n",
    "%matplotlib inline\n",
    "ct.iloc[:-1,:-1].plot(kind='bar', stacked=True, color=['red','blue'],grid=False)"
   ]
  },
  {
   "cell_type": "code",
   "execution_count": 130,
   "metadata": {},
   "outputs": [
    {
     "data": {
      "text/plain": [
       "<matplotlib.axes._subplots.AxesSubplot at 0x15e57a70>"
      ]
     },
     "execution_count": 130,
     "metadata": {},
     "output_type": "execute_result"
    },
    {
     "data": {
      "image/png": "[encoded data removed]",
      "text/plain": [
       "<Figure size 432x288 with 1 Axes>"
      ]
     },
     "metadata": {
      "needs_background": "light"
     },
     "output_type": "display_data"
    }
   ],
   "source": [
    "# Bi variate Continuous Vs Continuous\n",
    "\n",
    "#Continuous Vs Continuous\n",
    "dataset.plot('total_brubin' , 'albumin', kind='scatter')"
   ]
  },
  {
   "cell_type": "code",
   "execution_count": 131,
   "metadata": {},
   "outputs": [
    {
     "data": {
      "text/plain": [
       "<matplotlib.axes._subplots.AxesSubplot at 0x15ebc930>"
      ]
     },
     "execution_count": 131,
     "metadata": {},
     "output_type": "execute_result"
    },
    {
     "data": {
      "image/png": "[encoded data removed]",
      "text/plain": [
       "<Figure size 432x288 with 1 Axes>"
      ]
     },
     "metadata": {
      "needs_background": "light"
     },
     "output_type": "display_data"
    }
   ],
   "source": [
    "#Categorical-Continuous combination\n",
    "dataset.boxplot(column='albumin', by= 'ldisease')"
   ]
  },
  {
   "cell_type": "code",
   "execution_count": 132,
   "metadata": {},
   "outputs": [
    {
     "data": {
      "text/plain": [
       "<matplotlib.axes._subplots.AxesSubplot at 0x15f1ad90>"
      ]
     },
     "execution_count": 132,
     "metadata": {},
     "output_type": "execute_result"
    },
    {
     "data": {
      "image/png": "[encoded data removed]",
      "text/plain": [
       "<Figure size 432x288 with 1 Axes>"
      ]
     },
     "metadata": {
      "needs_background": "light"
     },
     "output_type": "display_data"
    }
   ],
   "source": [
    "#Categorical-Continuous combination\n",
    "dataset.boxplot(column='age', by= 'ldisease')"
   ]
  },
  {
   "cell_type": "code",
   "execution_count": 133,
   "metadata": {},
   "outputs": [
    {
     "data": {
      "text/plain": [
       "<matplotlib.axes._subplots.AxesSubplot at 0x15f5a730>"
      ]
     },
     "execution_count": 133,
     "metadata": {},
     "output_type": "execute_result"
    },
    {
     "data": {
      "image/png": "[encoded data removed]",
      "text/plain": [
       "<Figure size 432x288 with 1 Axes>"
      ]
     },
     "metadata": {
      "needs_background": "light"
     },
     "output_type": "display_data"
    }
   ],
   "source": [
    "#Categorical-Continuous combination\n",
    "dataset.boxplot(column='total_brubin', by= 'ldisease')"
   ]
  },
  {
   "cell_type": "code",
   "execution_count": 134,
   "metadata": {},
   "outputs": [
    {
     "data": {
      "text/plain": [
       "<matplotlib.axes._subplots.AxesSubplot at 0x16083f50>"
      ]
     },
     "execution_count": 134,
     "metadata": {},
     "output_type": "execute_result"
    },
    {
     "data": {
      "image/png": "[encoded data removed]",
      "text/plain": [
       "<Figure size 432x288 with 1 Axes>"
      ]
     },
     "metadata": {
      "needs_background": "light"
     },
     "output_type": "display_data"
    }
   ],
   "source": [
    "#Categorical-Continuous combination\n",
    "dataset.boxplot(column='direct_brubin', by= 'ldisease')"
   ]
  },
  {
   "cell_type": "code",
   "execution_count": 135,
   "metadata": {},
   "outputs": [
    {
     "data": {
      "text/plain": [
       "<matplotlib.axes._subplots.AxesSubplot at 0x160b94f0>"
      ]
     },
     "execution_count": 135,
     "metadata": {},
     "output_type": "execute_result"
    },
    {
     "data": {
      "image/png": "[encoded data removed]",
      "text/plain": [
       "<Figure size 432x288 with 1 Axes>"
      ]
     },
     "metadata": {
      "needs_background": "light"
     },
     "output_type": "display_data"
    }
   ],
   "source": [
    "#Categorical-Continuous combination\n",
    "dataset.boxplot(column='alk_phos', by= 'ldisease')"
   ]
  },
  {
   "cell_type": "code",
   "execution_count": 136,
   "metadata": {},
   "outputs": [
    {
     "data": {
      "text/plain": [
       "<matplotlib.axes._subplots.AxesSubplot at 0x1610a870>"
      ]
     },
     "execution_count": 136,
     "metadata": {},
     "output_type": "execute_result"
    },
    {
     "data": {
      "image/png": "[encoded data removed]",
      "text/plain": [
       "<Figure size 432x288 with 1 Axes>"
      ]
     },
     "metadata": {
      "needs_background": "light"
     },
     "output_type": "display_data"
    }
   ],
   "source": [
    "#Categorical-Continuous combination\n",
    "dataset.boxplot(column='alam_amin', by= 'ldisease')"
   ]
  },
  {
   "cell_type": "code",
   "execution_count": 137,
   "metadata": {},
   "outputs": [
    {
     "data": {
      "text/plain": [
       "<matplotlib.axes._subplots.AxesSubplot at 0x1614bed0>"
      ]
     },
     "execution_count": 137,
     "metadata": {},
     "output_type": "execute_result"
    },
    {
     "data": {
      "image/png": "[encoded data removed]",
      "text/plain": [
       "<Figure size 432x288 with 1 Axes>"
      ]
     },
     "metadata": {
      "needs_background": "light"
     },
     "output_type": "display_data"
    }
   ],
   "source": [
    "#Categorical-Continuous combination\n",
    "dataset.boxplot(column='asp_amin', by= 'ldisease')"
   ]
  },
  {
   "cell_type": "code",
   "execution_count": 138,
   "metadata": {},
   "outputs": [
    {
     "data": {
      "text/plain": [
       "<matplotlib.axes._subplots.AxesSubplot at 0x16193f50>"
      ]
     },
     "execution_count": 138,
     "metadata": {},
     "output_type": "execute_result"
    },
    {
     "data": {
      "image/png": "[encoded data removed]",
      "text/plain": [
       "<Figure size 432x288 with 1 Axes>"
      ]
     },
     "metadata": {
      "needs_background": "light"
     },
     "output_type": "display_data"
    }
   ],
   "source": [
    "#Categorical-Continuous combination\n",
    "dataset.boxplot(column='total_proteins', by= 'ldisease')"
   ]
  },
  {
   "cell_type": "code",
   "execution_count": 139,
   "metadata": {},
   "outputs": [
    {
     "data": {
      "text/plain": [
       "<matplotlib.axes._subplots.AxesSubplot at 0x161552f0>"
      ]
     },
     "execution_count": 139,
     "metadata": {},
     "output_type": "execute_result"
    },
    {
     "data": {
      "image/png": "[encoded data removed]",
      "text/plain": [
       "<Figure size 432x288 with 1 Axes>"
      ]
     },
     "metadata": {
      "needs_background": "light"
     },
     "output_type": "display_data"
    }
   ],
   "source": [
    "#Categorical-Continuous combination\n",
    "dataset.boxplot(column='albumin', by= 'ldisease')"
   ]
  },
  {
   "cell_type": "code",
   "execution_count": 140,
   "metadata": {},
   "outputs": [
    {
     "data": {
      "text/plain": [
       "<matplotlib.axes._subplots.AxesSubplot at 0x16227a10>"
      ]
     },
     "execution_count": 140,
     "metadata": {},
     "output_type": "execute_result"
    },
    {
     "data": {
      "image/png": "[encoded data removed]",
      "text/plain": [
       "<Figure size 432x288 with 1 Axes>"
      ]
     },
     "metadata": {
      "needs_background": "light"
     },
     "output_type": "display_data"
    }
   ],
   "source": [
    "#Categorical-Continuous combination\n",
    "dataset.boxplot(column='alb_glob_ratio', by= 'ldisease')"
   ]
  },
  {
   "cell_type": "code",
   "execution_count": 141,
   "metadata": {},
   "outputs": [],
   "source": [
    "#splitting the data into train and test\n",
    "from sklearn.model_selection import train_test_split\n",
    "X_train,X_test,y_train,y_test=train_test_split(X,y,test_size=0.20)"
   ]
  },
  {
   "cell_type": "code",
   "execution_count": 142,
   "metadata": {},
   "outputs": [
    {
     "data": {
      "text/plain": [
       "(825, 11)"
      ]
     },
     "execution_count": 142,
     "metadata": {},
     "output_type": "execute_result"
    }
   ],
   "source": [
    "dataset.shape"
   ]
  },
  {
   "cell_type": "code",
   "execution_count": 143,
   "metadata": {},
   "outputs": [
    {
     "data": {
      "text/plain": [
       "(935, 10)"
      ]
     },
     "execution_count": 143,
     "metadata": {},
     "output_type": "execute_result"
    }
   ],
   "source": [
    "X_train.shape"
   ]
  },
  {
   "cell_type": "code",
   "execution_count": 144,
   "metadata": {},
   "outputs": [
    {
     "data": {
      "text/plain": [
       "(234, 10)"
      ]
     },
     "execution_count": 144,
     "metadata": {},
     "output_type": "execute_result"
    }
   ],
   "source": [
    "X_test.shape"
   ]
  },
  {
   "cell_type": "code",
   "execution_count": 145,
   "metadata": {},
   "outputs": [],
   "source": [
    "import os\n",
    "import pandas\n",
    "import numpy\n",
    "import matplotlib.pyplot as plt\n",
    "from sklearn.preprocessing import StandardScaler\n",
    "from sklearn.linear_model import LinearRegression\n",
    "from sklearn.linear_model import Lasso\n",
    "from sklearn.linear_model import ElasticNet\n",
    "from sklearn.tree import DecisionTreeRegressor\n",
    "from sklearn.neighbors import KNeighborsRegressor\n",
    "from sklearn.svm import SVR\n",
    "from sklearn.pipeline import Pipeline\n",
    "from sklearn.ensemble import RandomForestRegressor\n",
    "from sklearn.ensemble import GradientBoostingRegressor\n",
    "from sklearn.ensemble import ExtraTreesRegressor\n",
    "from sklearn.ensemble import AdaBoostRegressor\n",
    "from sklearn.metrics import mean_squared_error\n",
    "from sklearn.tree import DecisionTreeClassifier, export_graphviz\n",
    "import pandas as pd\n",
    "import numpy as np\n",
    "from sklearn.model_selection import train_test_split\n",
    "from sklearn.metrics import confusion_matrix,accuracy_score\n",
    "from sklearn.ensemble import RandomForestClassifier\n",
    "from sklearn.naive_bayes import BernoulliNB\n",
    "from sklearn.neighbors import KNeighborsClassifier\n",
    "from sklearn.svm import SVC\n",
    "from time import time\n",
    "from sklearn.pipeline import Pipeline\n",
    "from sklearn.metrics import roc_auc_score , classification_report\n",
    "from sklearn.model_selection import GridSearchCV\n",
    "from sklearn.pipeline import Pipeline\n",
    "from sklearn.metrics import precision_score, recall_score, accuracy_score, classification_report\n",
    "from sklearn.ensemble import RandomForestRegressor\n",
    "from sklearn.ensemble import GradientBoostingRegressor\n",
    "from sklearn.ensemble import ExtraTreesRegressor\n",
    "from sklearn.ensemble import AdaBoostRegressor\n",
    "from sklearn.metrics import mean_squared_error\n",
    "from sklearn.linear_model import LogisticRegression\n",
    "from sklearn.tree import DecisionTreeClassifier\n",
    "from sklearn.neighbors import KNeighborsClassifier\n",
    "from sklearn.discriminant_analysis import LinearDiscriminantAnalysis\n",
    "from sklearn.naive_bayes import GaussianNB\n",
    "from sklearn.svm import SVC\n",
    "from sklearn.ensemble import AdaBoostClassifier\n",
    "from sklearn.ensemble import GradientBoostingClassifier\n",
    "from sklearn.ensemble import RandomForestClassifier\n",
    "from sklearn.ensemble import ExtraTreesClassifier\n",
    "from sklearn.model_selection import KFold\n",
    "from sklearn.model_selection import cross_val_score"
   ]
  },
  {
   "cell_type": "code",
   "execution_count": 146,
   "metadata": {},
   "outputs": [],
   "source": [
    "# validation  options and evaluation metric\n",
    "num_folds = 10 # like n estimators\n",
    "num_instances = len(X_train)\n",
    "seed = 5 # Like random state\n",
    "scoring = 'accuracy'"
   ]
  },
  {
   "cell_type": "code",
   "execution_count": 147,
   "metadata": {},
   "outputs": [],
   "source": [
    "# Model Pipeline (chain multiple estimators into one & automate machine learning)\n",
    "# Spot Check Algorithms\n",
    "models = []\n",
    "models.append(('LR', LogisticRegression()))\n",
    "models.append(('LDA', LinearDiscriminantAnalysis()))\n",
    "models.append(('KNN', KNeighborsClassifier()))\n",
    "models.append(('CART', DecisionTreeClassifier()))\n",
    "models.append(('NB', GaussianNB()))\n",
    "models.append(('SVM', SVC()))\n",
    "models.append(('RF', RandomForestClassifier()))"
   ]
  },
  {
   "cell_type": "code",
   "execution_count": 150,
   "metadata": {},
   "outputs": [
    {
     "name": "stdout",
     "output_type": "stream",
     "text": [
      "LR: 0.695173 (0.032279)\n",
      "LDA: 0.683356 (0.048495)\n",
      "KNN: 0.742279 (0.047110)\n",
      "CART: 0.831984 (0.037782)\n",
      "NB: 0.653580 (0.042236)\n",
      "SVM: 0.791512 (0.039009)\n",
      "RF: 0.843823 (0.029248)\n"
     ]
    }
   ],
   "source": [
    "# Finding best model\n",
    "results = []\n",
    "names = []\n",
    "for name, model in models:\n",
    "    kfold = KFold(n_splits=num_folds, random_state=seed)\n",
    "    cv_results = cross_val_score(model, X_train, y_train, cv=kfold, scoring=scoring)\n",
    "    results.append(cv_results)\n",
    "    names.append(name)\n",
    "    msg = \"%s: %f (%f)\" % (name, cv_results.mean(), cv_results.std())\n",
    "    print(msg)"
   ]
  },
  {
   "cell_type": "code",
   "execution_count": 151,
   "metadata": {},
   "outputs": [
    {
     "data": {
      "image/png": "[encoded data removed]",
      "text/plain": [
       "<Figure size 432x288 with 1 Axes>"
      ]
     },
     "metadata": {
      "needs_background": "light"
     },
     "output_type": "display_data"
    }
   ],
   "source": [
    "# Compare Algorithms\n",
    "fig = plt.figure()\n",
    "fig.suptitle('Algorithm Comparison')\n",
    "ax = fig.add_subplot(111)\n",
    "plt.boxplot(results)\n",
    "ax.set_xticklabels(names)\n",
    "plt.show()"
   ]
  },
  {
   "cell_type": "code",
   "execution_count": 152,
   "metadata": {},
   "outputs": [],
   "source": [
    "#Running Random Forest for variables selection\n",
    "\n",
    "classifier = RandomForestClassifier(random_state=5)\n",
    "\n",
    "# Random Forest\n",
    "#Grid Search for Parameter Selection\n",
    "grid_param = {\n",
    "    'n_estimators': [100, 300],\n",
    "    'criterion': ['gini', 'entropy'],\n",
    "    'bootstrap': [True, False],\n",
    "    'max_features' : ['auto',5],\n",
    "}"
   ]
  },
  {
   "cell_type": "code",
   "execution_count": 153,
   "metadata": {},
   "outputs": [],
   "source": [
    "#importing grid search\n",
    "from sklearn.model_selection import GridSearchCV\n",
    "\n",
    "gd_sr = GridSearchCV(estimator=classifier,\n",
    "                     param_grid=grid_param,\n",
    "                     scoring='accuracy',\n",
    "                     cv=5,\n",
    "                     n_jobs=-1)"
   ]
  },
  {
   "cell_type": "code",
   "execution_count": 154,
   "metadata": {},
   "outputs": [
    {
     "data": {
      "text/plain": [
       "GridSearchCV(cv=5, error_score='raise',\n",
       "       estimator=RandomForestClassifier(bootstrap=True, class_weight=None, criterion='gini',\n",
       "            max_depth=None, max_features='auto', max_leaf_nodes=None,\n",
       "            min_impurity_decrease=0.0, min_impurity_split=None,\n",
       "            min_samples_leaf=1, min_samples_split=2,\n",
       "            min_weight_fraction_leaf=0.0, n_estimators=10, n_jobs=1,\n",
       "            oob_score=False, random_state=5, verbose=0, warm_start=False),\n",
       "       fit_params=None, iid=True, n_jobs=-1,\n",
       "       param_grid={'n_estimators': [100, 300], 'criterion': ['gini', 'entropy'], 'bootstrap': [True, False], 'max_features': ['auto', 5]},\n",
       "       pre_dispatch='2*n_jobs', refit=True, return_train_score='warn',\n",
       "       scoring='accuracy', verbose=0)"
      ]
     },
     "execution_count": 154,
     "metadata": {},
     "output_type": "execute_result"
    }
   ],
   "source": [
    "gd_sr.fit(X_train, y_train)"
   ]
  },
  {
   "cell_type": "code",
   "execution_count": 180,
   "metadata": {},
   "outputs": [
    {
     "name": "stdout",
     "output_type": "stream",
     "text": [
      "{'bootstrap': True, 'criterion': 'gini', 'max_features': 'auto', 'n_estimators': 300}\n"
     ]
    }
   ],
   "source": [
    "best_parameters = gd_sr.best_params_\n",
    "print(best_parameters)"
   ]
  },
  {
   "cell_type": "code",
   "execution_count": 181,
   "metadata": {},
   "outputs": [],
   "source": [
    "rf = RandomForestClassifier(bootstrap= True, criterion='gini', n_estimators=300, max_features='auto') \n",
    "## Fit the model on your training data.\n",
    "rf.fit(X_train, y_train) \n",
    "y_pred=rf.predict(X_test)"
   ]
  },
  {
   "cell_type": "code",
   "execution_count": 182,
   "metadata": {},
   "outputs": [
    {
     "name": "stdout",
     "output_type": "stream",
     "text": [
      "1.0\n",
      "             precision    recall  f1-score   support\n",
      "\n",
      "          1       1.00      1.00      1.00       277\n",
      "          2       1.00      1.00      1.00       383\n",
      "\n",
      "avg / total       1.00      1.00      1.00       660\n",
      "\n",
      "[[277   0]\n",
      " [  0 383]]\n",
      "0.8181818181818182\n",
      "             precision    recall  f1-score   support\n",
      "\n",
      "          1       0.79      0.65      0.71        57\n",
      "          2       0.83      0.91      0.87       108\n",
      "\n",
      "avg / total       0.82      0.82      0.81       165\n",
      "\n",
      "[[37 20]\n",
      " [10 98]]\n"
     ]
    }
   ],
   "source": [
    "#accuracy and confusion matrix\n",
    "from sklearn.metrics import confusion_matrix\n",
    "predictions = rf.predict(X_train)\n",
    "print(accuracy_score(y_train, predictions))\n",
    "print(classification_report(y_train, predictions))\n",
    "print(confusion_matrix(y_train, predictions))\n",
    "\n",
    "\n",
    "y_pred=rf.predict(X_test)\n",
    "print(accuracy_score(y_test, y_pred))\n",
    "\n",
    "print(classification_report(y_test, y_pred))\n",
    "print(confusion_matrix(y_test, y_pred))"
   ]
  },
  {
   "cell_type": "code",
   "execution_count": 162,
   "metadata": {},
   "outputs": [
    {
     "data": {
      "text/plain": [
       "array([0.01297684, 0.11955935, 0.09247351, 0.10990294, 0.13520216,\n",
       "       0.12672746, 0.15355996, 0.08508457, 0.07470719, 0.08980603])"
      ]
     },
     "execution_count": 162,
     "metadata": {},
     "output_type": "execute_result"
    }
   ],
   "source": [
    "#best features\n",
    "rf.feature_importances_"
   ]
  },
  {
   "cell_type": "code",
   "execution_count": 163,
   "metadata": {},
   "outputs": [],
   "source": [
    "feature_columns =['gender','age','total_brubin','direct_brubin','alk_phos','alam_amin','asp_amin','total_proteins','albumin','alb_glob_ratio'] "
   ]
  },
  {
   "cell_type": "code",
   "execution_count": 164,
   "metadata": {},
   "outputs": [
    {
     "data": {
      "text/html": [
       "<div>\n",
       "<style scoped>\n",
       "    .dataframe tbody tr th:only-of-type {\n",
       "        vertical-align: middle;\n",
       "    }\n",
       "\n",
       "    .dataframe tbody tr th {\n",
       "        vertical-align: top;\n",
       "    }\n",
       "\n",
       "    .dataframe thead th {\n",
       "        text-align: right;\n",
       "    }\n",
       "</style>\n",
       "<table border=\"1\" class=\"dataframe\">\n",
       "  <thead>\n",
       "    <tr style=\"text-align: right;\">\n",
       "      <th></th>\n",
       "      <th>importance</th>\n",
       "    </tr>\n",
       "  </thead>\n",
       "  <tbody>\n",
       "    <tr>\n",
       "      <th>asp_amin</th>\n",
       "      <td>0.153560</td>\n",
       "    </tr>\n",
       "    <tr>\n",
       "      <th>alk_phos</th>\n",
       "      <td>0.135202</td>\n",
       "    </tr>\n",
       "    <tr>\n",
       "      <th>alam_amin</th>\n",
       "      <td>0.126727</td>\n",
       "    </tr>\n",
       "    <tr>\n",
       "      <th>age</th>\n",
       "      <td>0.119559</td>\n",
       "    </tr>\n",
       "    <tr>\n",
       "      <th>direct_brubin</th>\n",
       "      <td>0.109903</td>\n",
       "    </tr>\n",
       "    <tr>\n",
       "      <th>total_brubin</th>\n",
       "      <td>0.092474</td>\n",
       "    </tr>\n",
       "    <tr>\n",
       "      <th>alb_glob_ratio</th>\n",
       "      <td>0.089806</td>\n",
       "    </tr>\n",
       "    <tr>\n",
       "      <th>total_proteins</th>\n",
       "      <td>0.085085</td>\n",
       "    </tr>\n",
       "    <tr>\n",
       "      <th>albumin</th>\n",
       "      <td>0.074707</td>\n",
       "    </tr>\n",
       "    <tr>\n",
       "      <th>gender</th>\n",
       "      <td>0.012977</td>\n",
       "    </tr>\n",
       "  </tbody>\n",
       "</table>\n",
       "</div>"
      ],
      "text/plain": [
       "                importance\n",
       "asp_amin          0.153560\n",
       "alk_phos          0.135202\n",
       "alam_amin         0.126727\n",
       "age               0.119559\n",
       "direct_brubin     0.109903\n",
       "total_brubin      0.092474\n",
       "alb_glob_ratio    0.089806\n",
       "total_proteins    0.085085\n",
       "albumin           0.074707\n",
       "gender            0.012977"
      ]
     },
     "execution_count": 164,
     "metadata": {},
     "output_type": "execute_result"
    }
   ],
   "source": [
    "#best features/feature importance\n",
    "import pandas as pd\n",
    "feature_importances = pd.DataFrame(rf.feature_importances_,index = feature_columns,columns=['importance']).sort_values('importance', ascending=False)\n",
    "\n",
    "feature_importances"
   ]
  },
  {
   "cell_type": "code",
   "execution_count": 165,
   "metadata": {},
   "outputs": [],
   "source": [
    "# selectibnf required variables\n",
    "\n",
    "cols = [col for col in X .columns if col in ['asp_amin','alk_phos','alam_amin','age','direct_brubin']]\n",
    "datset1 = dataset[cols]\n",
    "y = dataset.iloc[:, 0]"
   ]
  },
  {
   "cell_type": "code",
   "execution_count": 166,
   "metadata": {},
   "outputs": [],
   "source": [
    "from sklearn.model_selection import train_test_split\n",
    "X_train, X_test, y_train, y_test = train_test_split(datset1, y, test_size=0.2, random_state=5)"
   ]
  },
  {
   "cell_type": "code",
   "execution_count": 167,
   "metadata": {},
   "outputs": [],
   "source": [
    "#Scaling the Data\n",
    "from sklearn.preprocessing import StandardScaler\n",
    "feature_scaler = StandardScaler()\n",
    "X_train = feature_scaler.fit_transform(X_train)\n",
    "X_test = feature_scaler.transform(X_test)"
   ]
  },
  {
   "cell_type": "code",
   "execution_count": 170,
   "metadata": {},
   "outputs": [
    {
     "name": "stdout",
     "output_type": "stream",
     "text": [
      "0.7303030303030303\n",
      "[[146 131]\n",
      " [ 47 336]]\n",
      "0.7575757575757576\n",
      "[[28 29]\n",
      " [11 97]]\n"
     ]
    },
    {
     "data": {
      "text/plain": [
       "array([1, 2, 2, 2, 2, 2, 2, 2, 2, 2, 2, 1, 2, 1, 2, 2, 2, 1, 2, 2, 2, 2,\n",
       "       2, 2, 2, 1, 2, 2, 2, 2, 2, 2, 1, 2, 2, 2, 1, 2, 2, 1, 2, 2, 2, 2,\n",
       "       2, 2, 2, 2, 2, 2, 2, 2, 1, 2, 2, 1, 2, 1, 2, 2, 2, 2, 2, 1, 1, 1,\n",
       "       1, 1, 2, 1, 1, 1, 1, 2, 2, 2, 2, 2, 2, 2, 1, 2, 2, 2, 2, 2, 2, 1,\n",
       "       2, 2, 2, 2, 2, 1, 1, 2, 2, 2, 2, 2, 1, 2, 2, 1, 2, 2, 2, 2, 2, 2,\n",
       "       1, 2, 1, 2, 2, 2, 1, 1, 2, 2, 2, 2, 2, 2, 2, 2, 2, 2, 1, 2, 2, 2,\n",
       "       2, 2, 2, 2, 2, 2, 1, 2, 2, 2, 2, 2, 2, 1, 2, 1, 1, 2, 2, 1, 2, 2,\n",
       "       2, 2, 2, 2, 2, 2, 2, 1, 1, 2, 1], dtype=int64)"
      ]
     },
     "execution_count": 170,
     "metadata": {},
     "output_type": "execute_result"
    }
   ],
   "source": [
    "# Logistic\n",
    "from sklearn.linear_model import LogisticRegression\n",
    "classifier=LogisticRegression(random_state=0)\n",
    "classifier.fit(X_train,y_train)\n",
    "\n",
    "\n",
    "# estimate accuracy on validation dataset\n",
    "predictions = classifier.predict(X_train)\n",
    "print(accuracy_score(y_train, predictions))\n",
    "print(confusion_matrix(y_train, predictions))\n",
    "\n",
    "\n",
    "# estimate accuracy on validation dataset\n",
    "predictions1 = classifier.predict(X_test)\n",
    "print(accuracy_score(y_test, predictions1))\n",
    "print(confusion_matrix(y_test, predictions1))\n",
    "\n",
    "predictions1"
   ]
  },
  {
   "cell_type": "code",
   "execution_count": 183,
   "metadata": {},
   "outputs": [
    {
     "name": "stdout",
     "output_type": "stream",
     "text": [
      "0.734848 0.037879 {'C': 0.1, 'kernel': 'linear'}\n",
      "0.742424 0.043387 {'C': 0.1, 'kernel': 'poly'}\n",
      "0.745455 0.038211 {'C': 0.1, 'kernel': 'rbf'}\n",
      "0.709091 0.035078 {'C': 0.1, 'kernel': 'sigmoid'}\n",
      "0.734848 0.037879 {'C': 0.3, 'kernel': 'linear'}\n",
      "0.743939 0.037391 {'C': 0.3, 'kernel': 'poly'}\n",
      "0.757576 0.038925 {'C': 0.3, 'kernel': 'rbf'}\n",
      "0.636364 0.075454 {'C': 0.3, 'kernel': 'sigmoid'}\n",
      "0.734848 0.037879 {'C': 0.5, 'kernel': 'linear'}\n",
      "0.745455 0.038211 {'C': 0.5, 'kernel': 'poly'}\n",
      "0.757576 0.042316 {'C': 0.5, 'kernel': 'rbf'}\n",
      "0.59697 0.057176 {'C': 0.5, 'kernel': 'sigmoid'}\n",
      "0.734848 0.037879 {'C': 0.7, 'kernel': 'linear'}\n",
      "0.739394 0.03699 {'C': 0.7, 'kernel': 'poly'}\n",
      "0.760606 0.038807 {'C': 0.7, 'kernel': 'rbf'}\n",
      "0.59697 0.047043 {'C': 0.7, 'kernel': 'sigmoid'}\n",
      "0.734848 0.037879 {'C': 0.9, 'kernel': 'linear'}\n",
      "0.740909 0.037391 {'C': 0.9, 'kernel': 'poly'}\n",
      "0.75303 0.041797 {'C': 0.9, 'kernel': 'rbf'}\n",
      "0.589394 0.05 {'C': 0.9, 'kernel': 'sigmoid'}\n",
      "0.734848 0.037879 {'C': 1.0, 'kernel': 'linear'}\n",
      "0.742424 0.037727 {'C': 1.0, 'kernel': 'poly'}\n",
      "0.751515 0.041328 {'C': 1.0, 'kernel': 'rbf'}\n",
      "0.581818 0.051247 {'C': 1.0, 'kernel': 'sigmoid'}\n",
      "0.734848 0.037879 {'C': 1.3, 'kernel': 'linear'}\n",
      "0.748485 0.034683 {'C': 1.3, 'kernel': 'poly'}\n",
      "0.757576 0.042316 {'C': 1.3, 'kernel': 'rbf'}\n",
      "0.593939 0.06015 {'C': 1.3, 'kernel': 'sigmoid'}\n",
      "0.734848 0.037879 {'C': 1.5, 'kernel': 'linear'}\n",
      "0.748485 0.034683 {'C': 1.5, 'kernel': 'poly'}\n",
      "0.757576 0.04177 {'C': 1.5, 'kernel': 'rbf'}\n",
      "0.589394 0.058072 {'C': 1.5, 'kernel': 'sigmoid'}\n",
      "0.734848 0.037879 {'C': 1.7, 'kernel': 'linear'}\n",
      "0.745455 0.033057 {'C': 1.7, 'kernel': 'poly'}\n",
      "0.757576 0.04177 {'C': 1.7, 'kernel': 'rbf'}\n",
      "0.574242 0.053547 {'C': 1.7, 'kernel': 'sigmoid'}\n",
      "0.734848 0.037879 {'C': 2.0, 'kernel': 'linear'}\n",
      "0.74697 0.035242 {'C': 2.0, 'kernel': 'poly'}\n",
      "0.760606 0.038807 {'C': 2.0, 'kernel': 'rbf'}\n",
      "0.580303 0.056712 {'C': 2.0, 'kernel': 'sigmoid'}\n"
     ]
    }
   ],
   "source": [
    "# Running grid dserarch SVM\n",
    "c_values = [0.1, 0.3, 0.5, 0.7, 0.9, 1.0, 1.3, 1.5, 1.7, 2.0]\n",
    "kernel_values = ['linear', 'poly', 'rbf', 'sigmoid']\n",
    "param_grid = dict(C=c_values, kernel=kernel_values)\n",
    "model = SVC()\n",
    "kfold = KFold(n_splits=num_folds, random_state=seed)\n",
    "grid = GridSearchCV(estimator=model, param_grid=param_grid, scoring=scoring, cv=kfold)\n",
    "grid_result = grid.fit(X_train, y_train)\n",
    "\n",
    "# for params, mean_score, scores in grid_result.grid_scores_:\n",
    "#     print(\"%f (%f) with: %r\" % (scores.mean(), scores.std(), params))\n",
    "\n",
    "for means,stdev,neighbors in zip(grid_result.cv_results_['mean_test_score'],grid_result.cv_results_['std_test_score'],grid_result.cv_results_['params']):\n",
    "    print(round(means, 6),round(stdev,6),neighbors)"
   ]
  },
  {
   "cell_type": "code",
   "execution_count": 184,
   "metadata": {},
   "outputs": [
    {
     "name": "stdout",
     "output_type": "stream",
     "text": [
      "Best: 0.760606 using {'C': 0.7, 'kernel': 'rbf'}\n"
     ]
    }
   ],
   "source": [
    "# Printing final parameters\n",
    "print(\"Best: %f using %s\" % (grid_result.best_score_, grid_result.best_params_))"
   ]
  },
  {
   "cell_type": "code",
   "execution_count": 185,
   "metadata": {},
   "outputs": [
    {
     "name": "stdout",
     "output_type": "stream",
     "text": [
      "0.7863636363636364\n",
      "[[167 110]\n",
      " [ 31 352]]\n",
      "             precision    recall  f1-score   support\n",
      "\n",
      "          1       0.84      0.60      0.70       277\n",
      "          2       0.76      0.92      0.83       383\n",
      "\n",
      "avg / total       0.80      0.79      0.78       660\n",
      "\n",
      "0.7878787878787878\n",
      "[[33 24]\n",
      " [11 97]]\n",
      "             precision    recall  f1-score   support\n",
      "\n",
      "          1       0.75      0.58      0.65        57\n",
      "          2       0.80      0.90      0.85       108\n",
      "\n",
      "avg / total       0.78      0.79      0.78       165\n",
      "\n"
     ]
    }
   ],
   "source": [
    "#$ Final SVM Model\n",
    "model = SVC(C=0.7, kernel='rbf')\n",
    "model.fit(X_train, y_train)\n",
    "# estimate accuracy on training dataset\n",
    "predictions = model.predict(X_train)\n",
    "print(accuracy_score(y_train, predictions))\n",
    "print(confusion_matrix(y_train, predictions))\n",
    "print(classification_report(y_train, predictions))\n",
    "\n",
    "# estimate accuracy on test dataset\n",
    "predictions1 = model.predict(X_test)\n",
    "print(accuracy_score(y_test, predictions1))\n",
    "print(confusion_matrix(y_test, predictions1))\n",
    "print(classification_report(y_test, predictions1))"
   ]
  },
  {
   "cell_type": "code",
   "execution_count": 186,
   "metadata": {},
   "outputs": [
    {
     "name": "stdout",
     "output_type": "stream",
     "text": [
      "Best: 0.754545 using {'n_neighbors': 12}\n",
      "0.731818 0.037144 {'n_neighbors': 3}\n",
      "0.733333 0.042424 {'n_neighbors': 6}\n",
      "0.75 0.042451 {'n_neighbors': 9}\n",
      "0.754545 0.045353 {'n_neighbors': 12}\n",
      "0.751515 0.033333 {'n_neighbors': 15}\n",
      "0.754545 0.03699 {'n_neighbors': 18}\n"
     ]
    }
   ],
   "source": [
    "# Tune scaled KNN\n",
    "neighbors = [3,6,9,12,15,18]\n",
    "param_grid = dict(n_neighbors=neighbors)\n",
    "model = KNeighborsClassifier()\n",
    "kfold = KFold(n_splits=num_folds, random_state=seed)\n",
    "grid = GridSearchCV(estimator=model, param_grid=param_grid, scoring=scoring, cv=kfold)\n",
    "grid_result = grid.fit(X_train, y_train)\n",
    "print(\"Best: %f using %s\" % (grid_result.best_score_, grid_result.best_params_))\n",
    "\n",
    "# for params, mean_score, scores in grid_result.grid_scores_:\n",
    "#     print(\"%f (%f) with: %r\" % (scores.mean(), scores.std(), params))\n",
    "\n",
    "for means,stdev,neighbors in zip(grid_result.cv_results_['mean_test_score'],grid_result.cv_results_['std_test_score'],grid_result.cv_results_['params']):\n",
    "    print(round(means, 6),round(stdev,6),neighbors)"
   ]
  },
  {
   "cell_type": "code",
   "execution_count": 187,
   "metadata": {},
   "outputs": [
    {
     "data": {
      "text/plain": [
       "KNeighborsClassifier(algorithm='auto', leaf_size=30, metric='minkowski',\n",
       "           metric_params=None, n_jobs=1, n_neighbors=12, p=2,\n",
       "           weights='uniform')"
      ]
     },
     "execution_count": 187,
     "metadata": {},
     "output_type": "execute_result"
    }
   ],
   "source": [
    "# Final model with KNN\n",
    "model = KNeighborsClassifier(n_neighbors= 12)\n",
    "model.fit(X_train, y_train)"
   ]
  },
  {
   "cell_type": "code",
   "execution_count": 188,
   "metadata": {},
   "outputs": [
    {
     "name": "stdout",
     "output_type": "stream",
     "text": [
      "0.7803030303030303\n",
      "[[180  97]\n",
      " [ 48 335]]\n",
      "             precision    recall  f1-score   support\n",
      "\n",
      "          1       0.79      0.65      0.71       277\n",
      "          2       0.78      0.87      0.82       383\n",
      "\n",
      "avg / total       0.78      0.78      0.78       660\n",
      "\n",
      "0.7575757575757576\n",
      "[[30 27]\n",
      " [13 95]]\n",
      "             precision    recall  f1-score   support\n",
      "\n",
      "          1       0.70      0.53      0.60        57\n",
      "          2       0.78      0.88      0.83       108\n",
      "\n",
      "avg / total       0.75      0.76      0.75       165\n",
      "\n"
     ]
    }
   ],
   "source": [
    "# estimate accuracy on training dataset\n",
    "predictions = model.predict(X_train)\n",
    "print(accuracy_score(y_train, predictions))\n",
    "print(confusion_matrix(y_train, predictions))\n",
    "print(classification_report(y_train, predictions))\n",
    "\n",
    "# estimate accuracy on test dataset\n",
    "predictions1 = model.predict(X_test)\n",
    "print(accuracy_score(y_test, predictions1))\n",
    "print(confusion_matrix(y_test, predictions1))\n",
    "print(classification_report(y_test, predictions1))"
   ]
  },
  {
   "cell_type": "code",
   "execution_count": null,
   "metadata": {},
   "outputs": [],
   "source": []
  },
  {
   "cell_type": "code",
   "execution_count": null,
   "metadata": {},
   "outputs": [],
   "source": []
  }
 ],
 "metadata": {
  "kernelspec": {
   "display_name": "Python 3",
   "language": "python",
   "name": "python3"
  },
  "language_info": {
   "codemirror_mode": {
    "name": "ipython",
    "version": 3
   },
   "file_extension": ".py",
   "mimetype": "text/x-python",
   "name": "python",
   "nbconvert_exporter": "python",
   "pygments_lexer": "ipython3",
   "version": "3.7.0"
  }
 },
 "nbformat": 4,
 "nbformat_minor": 2
}
